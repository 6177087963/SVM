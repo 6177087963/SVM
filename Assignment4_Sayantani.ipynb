{
  "nbformat": 4,
  "nbformat_minor": 0,
  "metadata": {
    "colab": {
      "name": "Assignment4_Sayantani.ipynb",
      "provenance": [],
      "collapsed_sections": []
    },
    "kernelspec": {
      "name": "python3",
      "display_name": "Python 3"
    },
    "language_info": {
      "name": "python"
    }
  },
  "cells": [
    {
      "cell_type": "markdown",
      "source": [
        "1. Perform a 10-fold Cross-Validation for SVC on BostonHousing_full.csv data using Pipeline. Specifically,\n",
        "\n",
        "             (i) report average accuracy, confusion matrix, precision, recall, and F1 score; and\n",
        "\n",
        "            (ii) use grid search to find the best C from C = [1, 5, 10, 50, 100, 500, 1000].\n",
        "\n",
        "2. Load salary1.arff file and convert record array to Dataframe and byte string to string. Build an SVR model, Plot the data, SVR and regression models.\n",
        "\n",
        "3. What is Weighted Nearest Neighbor Model? Explain briefly."
      ],
      "metadata": {
        "id": "2SCu0-lO0Tvo"
      }
    },
    {
      "cell_type": "code",
      "source": [
        "import pandas as pd\n",
        "from matplotlib import style\n",
        "from matplotlib import pyplot as plt\n",
        "#import graphviz as gr\n",
        "%matplotlib inline\n",
        "style.use(\"fivethirtyeight\")\n",
        "import matplotlib.pyplot as plt\n",
        "\n",
        "from google.colab import drive\n",
        "drive.mount('/content/drive')\n",
        "import warnings\n",
        "warnings.filterwarnings('ignore')\n",
        "pd.set_option(\"display.max_columns\", 60)\n",
        "pd.set_option('display.max_rows', 50)\n",
        "pd.set_option('display.width', 1000)"
      ],
      "metadata": {
        "colab": {
          "base_uri": "https://localhost:8080/"
        },
        "id": "8gc53Ngo0pnF",
        "outputId": "005f37f1-d592-4d7b-e61c-3971051fc2ee"
      },
      "execution_count": 1,
      "outputs": [
        {
          "output_type": "stream",
          "name": "stdout",
          "text": [
            "Mounted at /content/drive\n"
          ]
        }
      ]
    },
    {
      "cell_type": "code",
      "source": [
        "# Load BostonHousing_full.csv file and convert record array to dataframe and byte string to string\n",
        "import pandas as pd\n",
        "import numpy as np\n",
        "data = pd.read_csv('/content/drive/MyDrive/DataMining/Files/BostonHousing_full.csv')"
      ],
      "metadata": {
        "id": "FOY4TbzC3q-b"
      },
      "execution_count": 2,
      "outputs": []
    },
    {
      "cell_type": "code",
      "source": [
        "data.corr()"
      ],
      "metadata": {
        "colab": {
          "base_uri": "https://localhost:8080/",
          "height": 457
        },
        "id": "Q8TMwBmC-ADX",
        "outputId": "b41817a2-f594-4ae0-9ea6-653d59670bf5"
      },
      "execution_count": 3,
      "outputs": [
        {
          "output_type": "execute_result",
          "data": {
            "text/html": [
              "\n",
              "  <div id=\"df-1b18fcc4-18fb-470e-a4b3-b1e1b2fb1534\">\n",
              "    <div class=\"colab-df-container\">\n",
              "      <div>\n",
              "<style scoped>\n",
              "    .dataframe tbody tr th:only-of-type {\n",
              "        vertical-align: middle;\n",
              "    }\n",
              "\n",
              "    .dataframe tbody tr th {\n",
              "        vertical-align: top;\n",
              "    }\n",
              "\n",
              "    .dataframe thead th {\n",
              "        text-align: right;\n",
              "    }\n",
              "</style>\n",
              "<table border=\"1\" class=\"dataframe\">\n",
              "  <thead>\n",
              "    <tr style=\"text-align: right;\">\n",
              "      <th></th>\n",
              "      <th>CRIM</th>\n",
              "      <th>ZN</th>\n",
              "      <th>INDUS</th>\n",
              "      <th>CHAS</th>\n",
              "      <th>NOX</th>\n",
              "      <th>RM</th>\n",
              "      <th>AGE</th>\n",
              "      <th>DIS</th>\n",
              "      <th>RAD</th>\n",
              "      <th>TAX</th>\n",
              "      <th>PTRATIO</th>\n",
              "      <th>B</th>\n",
              "      <th>LSTAT</th>\n",
              "    </tr>\n",
              "  </thead>\n",
              "  <tbody>\n",
              "    <tr>\n",
              "      <th>CRIM</th>\n",
              "      <td>1.000000</td>\n",
              "      <td>-0.200469</td>\n",
              "      <td>0.406583</td>\n",
              "      <td>-0.055892</td>\n",
              "      <td>0.420972</td>\n",
              "      <td>-0.219247</td>\n",
              "      <td>0.352734</td>\n",
              "      <td>-0.379670</td>\n",
              "      <td>0.625505</td>\n",
              "      <td>0.582764</td>\n",
              "      <td>0.289946</td>\n",
              "      <td>-0.385064</td>\n",
              "      <td>0.455621</td>\n",
              "    </tr>\n",
              "    <tr>\n",
              "      <th>ZN</th>\n",
              "      <td>-0.200469</td>\n",
              "      <td>1.000000</td>\n",
              "      <td>-0.533828</td>\n",
              "      <td>-0.042697</td>\n",
              "      <td>-0.516604</td>\n",
              "      <td>0.311991</td>\n",
              "      <td>-0.569537</td>\n",
              "      <td>0.664408</td>\n",
              "      <td>-0.311948</td>\n",
              "      <td>-0.314563</td>\n",
              "      <td>-0.391679</td>\n",
              "      <td>0.175520</td>\n",
              "      <td>-0.412995</td>\n",
              "    </tr>\n",
              "    <tr>\n",
              "      <th>INDUS</th>\n",
              "      <td>0.406583</td>\n",
              "      <td>-0.533828</td>\n",
              "      <td>1.000000</td>\n",
              "      <td>0.062938</td>\n",
              "      <td>0.763651</td>\n",
              "      <td>-0.391676</td>\n",
              "      <td>0.644779</td>\n",
              "      <td>-0.708027</td>\n",
              "      <td>0.595129</td>\n",
              "      <td>0.720760</td>\n",
              "      <td>0.383248</td>\n",
              "      <td>-0.356977</td>\n",
              "      <td>0.603800</td>\n",
              "    </tr>\n",
              "    <tr>\n",
              "      <th>CHAS</th>\n",
              "      <td>-0.055892</td>\n",
              "      <td>-0.042697</td>\n",
              "      <td>0.062938</td>\n",
              "      <td>1.000000</td>\n",
              "      <td>0.091203</td>\n",
              "      <td>0.091251</td>\n",
              "      <td>0.086518</td>\n",
              "      <td>-0.099176</td>\n",
              "      <td>-0.007368</td>\n",
              "      <td>-0.035587</td>\n",
              "      <td>-0.121515</td>\n",
              "      <td>0.048788</td>\n",
              "      <td>-0.053929</td>\n",
              "    </tr>\n",
              "    <tr>\n",
              "      <th>NOX</th>\n",
              "      <td>0.420972</td>\n",
              "      <td>-0.516604</td>\n",
              "      <td>0.763651</td>\n",
              "      <td>0.091203</td>\n",
              "      <td>1.000000</td>\n",
              "      <td>-0.302188</td>\n",
              "      <td>0.731470</td>\n",
              "      <td>-0.769230</td>\n",
              "      <td>0.611441</td>\n",
              "      <td>0.668023</td>\n",
              "      <td>0.188933</td>\n",
              "      <td>-0.380051</td>\n",
              "      <td>0.590879</td>\n",
              "    </tr>\n",
              "    <tr>\n",
              "      <th>RM</th>\n",
              "      <td>-0.219247</td>\n",
              "      <td>0.311991</td>\n",
              "      <td>-0.391676</td>\n",
              "      <td>0.091251</td>\n",
              "      <td>-0.302188</td>\n",
              "      <td>1.000000</td>\n",
              "      <td>-0.240265</td>\n",
              "      <td>0.205246</td>\n",
              "      <td>-0.209847</td>\n",
              "      <td>-0.292048</td>\n",
              "      <td>-0.355501</td>\n",
              "      <td>0.128069</td>\n",
              "      <td>-0.613808</td>\n",
              "    </tr>\n",
              "    <tr>\n",
              "      <th>AGE</th>\n",
              "      <td>0.352734</td>\n",
              "      <td>-0.569537</td>\n",
              "      <td>0.644779</td>\n",
              "      <td>0.086518</td>\n",
              "      <td>0.731470</td>\n",
              "      <td>-0.240265</td>\n",
              "      <td>1.000000</td>\n",
              "      <td>-0.747881</td>\n",
              "      <td>0.456022</td>\n",
              "      <td>0.506456</td>\n",
              "      <td>0.261515</td>\n",
              "      <td>-0.273534</td>\n",
              "      <td>0.602339</td>\n",
              "    </tr>\n",
              "    <tr>\n",
              "      <th>DIS</th>\n",
              "      <td>-0.379670</td>\n",
              "      <td>0.664408</td>\n",
              "      <td>-0.708027</td>\n",
              "      <td>-0.099176</td>\n",
              "      <td>-0.769230</td>\n",
              "      <td>0.205246</td>\n",
              "      <td>-0.747881</td>\n",
              "      <td>1.000000</td>\n",
              "      <td>-0.494588</td>\n",
              "      <td>-0.534432</td>\n",
              "      <td>-0.232471</td>\n",
              "      <td>0.291512</td>\n",
              "      <td>-0.496996</td>\n",
              "    </tr>\n",
              "    <tr>\n",
              "      <th>RAD</th>\n",
              "      <td>0.625505</td>\n",
              "      <td>-0.311948</td>\n",
              "      <td>0.595129</td>\n",
              "      <td>-0.007368</td>\n",
              "      <td>0.611441</td>\n",
              "      <td>-0.209847</td>\n",
              "      <td>0.456022</td>\n",
              "      <td>-0.494588</td>\n",
              "      <td>1.000000</td>\n",
              "      <td>0.910228</td>\n",
              "      <td>0.464741</td>\n",
              "      <td>-0.444413</td>\n",
              "      <td>0.488676</td>\n",
              "    </tr>\n",
              "    <tr>\n",
              "      <th>TAX</th>\n",
              "      <td>0.582764</td>\n",
              "      <td>-0.314563</td>\n",
              "      <td>0.720760</td>\n",
              "      <td>-0.035587</td>\n",
              "      <td>0.668023</td>\n",
              "      <td>-0.292048</td>\n",
              "      <td>0.506456</td>\n",
              "      <td>-0.534432</td>\n",
              "      <td>0.910228</td>\n",
              "      <td>1.000000</td>\n",
              "      <td>0.460853</td>\n",
              "      <td>-0.441808</td>\n",
              "      <td>0.543993</td>\n",
              "    </tr>\n",
              "    <tr>\n",
              "      <th>PTRATIO</th>\n",
              "      <td>0.289946</td>\n",
              "      <td>-0.391679</td>\n",
              "      <td>0.383248</td>\n",
              "      <td>-0.121515</td>\n",
              "      <td>0.188933</td>\n",
              "      <td>-0.355501</td>\n",
              "      <td>0.261515</td>\n",
              "      <td>-0.232471</td>\n",
              "      <td>0.464741</td>\n",
              "      <td>0.460853</td>\n",
              "      <td>1.000000</td>\n",
              "      <td>-0.177383</td>\n",
              "      <td>0.374044</td>\n",
              "    </tr>\n",
              "    <tr>\n",
              "      <th>B</th>\n",
              "      <td>-0.385064</td>\n",
              "      <td>0.175520</td>\n",
              "      <td>-0.356977</td>\n",
              "      <td>0.048788</td>\n",
              "      <td>-0.380051</td>\n",
              "      <td>0.128069</td>\n",
              "      <td>-0.273534</td>\n",
              "      <td>0.291512</td>\n",
              "      <td>-0.444413</td>\n",
              "      <td>-0.441808</td>\n",
              "      <td>-0.177383</td>\n",
              "      <td>1.000000</td>\n",
              "      <td>-0.366087</td>\n",
              "    </tr>\n",
              "    <tr>\n",
              "      <th>LSTAT</th>\n",
              "      <td>0.455621</td>\n",
              "      <td>-0.412995</td>\n",
              "      <td>0.603800</td>\n",
              "      <td>-0.053929</td>\n",
              "      <td>0.590879</td>\n",
              "      <td>-0.613808</td>\n",
              "      <td>0.602339</td>\n",
              "      <td>-0.496996</td>\n",
              "      <td>0.488676</td>\n",
              "      <td>0.543993</td>\n",
              "      <td>0.374044</td>\n",
              "      <td>-0.366087</td>\n",
              "      <td>1.000000</td>\n",
              "    </tr>\n",
              "  </tbody>\n",
              "</table>\n",
              "</div>\n",
              "      <button class=\"colab-df-convert\" onclick=\"convertToInteractive('df-1b18fcc4-18fb-470e-a4b3-b1e1b2fb1534')\"\n",
              "              title=\"Convert this dataframe to an interactive table.\"\n",
              "              style=\"display:none;\">\n",
              "        \n",
              "  <svg xmlns=\"http://www.w3.org/2000/svg\" height=\"24px\"viewBox=\"0 0 24 24\"\n",
              "       width=\"24px\">\n",
              "    <path d=\"M0 0h24v24H0V0z\" fill=\"none\"/>\n",
              "    <path d=\"M18.56 5.44l.94 2.06.94-2.06 2.06-.94-2.06-.94-.94-2.06-.94 2.06-2.06.94zm-11 1L8.5 8.5l.94-2.06 2.06-.94-2.06-.94L8.5 2.5l-.94 2.06-2.06.94zm10 10l.94 2.06.94-2.06 2.06-.94-2.06-.94-.94-2.06-.94 2.06-2.06.94z\"/><path d=\"M17.41 7.96l-1.37-1.37c-.4-.4-.92-.59-1.43-.59-.52 0-1.04.2-1.43.59L10.3 9.45l-7.72 7.72c-.78.78-.78 2.05 0 2.83L4 21.41c.39.39.9.59 1.41.59.51 0 1.02-.2 1.41-.59l7.78-7.78 2.81-2.81c.8-.78.8-2.07 0-2.86zM5.41 20L4 18.59l7.72-7.72 1.47 1.35L5.41 20z\"/>\n",
              "  </svg>\n",
              "      </button>\n",
              "      \n",
              "  <style>\n",
              "    .colab-df-container {\n",
              "      display:flex;\n",
              "      flex-wrap:wrap;\n",
              "      gap: 12px;\n",
              "    }\n",
              "\n",
              "    .colab-df-convert {\n",
              "      background-color: #E8F0FE;\n",
              "      border: none;\n",
              "      border-radius: 50%;\n",
              "      cursor: pointer;\n",
              "      display: none;\n",
              "      fill: #1967D2;\n",
              "      height: 32px;\n",
              "      padding: 0 0 0 0;\n",
              "      width: 32px;\n",
              "    }\n",
              "\n",
              "    .colab-df-convert:hover {\n",
              "      background-color: #E2EBFA;\n",
              "      box-shadow: 0px 1px 2px rgba(60, 64, 67, 0.3), 0px 1px 3px 1px rgba(60, 64, 67, 0.15);\n",
              "      fill: #174EA6;\n",
              "    }\n",
              "\n",
              "    [theme=dark] .colab-df-convert {\n",
              "      background-color: #3B4455;\n",
              "      fill: #D2E3FC;\n",
              "    }\n",
              "\n",
              "    [theme=dark] .colab-df-convert:hover {\n",
              "      background-color: #434B5C;\n",
              "      box-shadow: 0px 1px 3px 1px rgba(0, 0, 0, 0.15);\n",
              "      filter: drop-shadow(0px 1px 2px rgba(0, 0, 0, 0.3));\n",
              "      fill: #FFFFFF;\n",
              "    }\n",
              "  </style>\n",
              "\n",
              "      <script>\n",
              "        const buttonEl =\n",
              "          document.querySelector('#df-1b18fcc4-18fb-470e-a4b3-b1e1b2fb1534 button.colab-df-convert');\n",
              "        buttonEl.style.display =\n",
              "          google.colab.kernel.accessAllowed ? 'block' : 'none';\n",
              "\n",
              "        async function convertToInteractive(key) {\n",
              "          const element = document.querySelector('#df-1b18fcc4-18fb-470e-a4b3-b1e1b2fb1534');\n",
              "          const dataTable =\n",
              "            await google.colab.kernel.invokeFunction('convertToInteractive',\n",
              "                                                     [key], {});\n",
              "          if (!dataTable) return;\n",
              "\n",
              "          const docLinkHtml = 'Like what you see? Visit the ' +\n",
              "            '<a target=\"_blank\" href=https://colab.research.google.com/notebooks/data_table.ipynb>data table notebook</a>'\n",
              "            + ' to learn more about interactive tables.';\n",
              "          element.innerHTML = '';\n",
              "          dataTable['output_type'] = 'display_data';\n",
              "          await google.colab.output.renderOutput(dataTable, element);\n",
              "          const docLink = document.createElement('div');\n",
              "          docLink.innerHTML = docLinkHtml;\n",
              "          element.appendChild(docLink);\n",
              "        }\n",
              "      </script>\n",
              "    </div>\n",
              "  </div>\n",
              "  "
            ],
            "text/plain": [
              "             CRIM        ZN     INDUS      CHAS       NOX        RM       AGE       DIS       RAD       TAX   PTRATIO         B     LSTAT\n",
              "CRIM     1.000000 -0.200469  0.406583 -0.055892  0.420972 -0.219247  0.352734 -0.379670  0.625505  0.582764  0.289946 -0.385064  0.455621\n",
              "ZN      -0.200469  1.000000 -0.533828 -0.042697 -0.516604  0.311991 -0.569537  0.664408 -0.311948 -0.314563 -0.391679  0.175520 -0.412995\n",
              "INDUS    0.406583 -0.533828  1.000000  0.062938  0.763651 -0.391676  0.644779 -0.708027  0.595129  0.720760  0.383248 -0.356977  0.603800\n",
              "CHAS    -0.055892 -0.042697  0.062938  1.000000  0.091203  0.091251  0.086518 -0.099176 -0.007368 -0.035587 -0.121515  0.048788 -0.053929\n",
              "NOX      0.420972 -0.516604  0.763651  0.091203  1.000000 -0.302188  0.731470 -0.769230  0.611441  0.668023  0.188933 -0.380051  0.590879\n",
              "RM      -0.219247  0.311991 -0.391676  0.091251 -0.302188  1.000000 -0.240265  0.205246 -0.209847 -0.292048 -0.355501  0.128069 -0.613808\n",
              "AGE      0.352734 -0.569537  0.644779  0.086518  0.731470 -0.240265  1.000000 -0.747881  0.456022  0.506456  0.261515 -0.273534  0.602339\n",
              "DIS     -0.379670  0.664408 -0.708027 -0.099176 -0.769230  0.205246 -0.747881  1.000000 -0.494588 -0.534432 -0.232471  0.291512 -0.496996\n",
              "RAD      0.625505 -0.311948  0.595129 -0.007368  0.611441 -0.209847  0.456022 -0.494588  1.000000  0.910228  0.464741 -0.444413  0.488676\n",
              "TAX      0.582764 -0.314563  0.720760 -0.035587  0.668023 -0.292048  0.506456 -0.534432  0.910228  1.000000  0.460853 -0.441808  0.543993\n",
              "PTRATIO  0.289946 -0.391679  0.383248 -0.121515  0.188933 -0.355501  0.261515 -0.232471  0.464741  0.460853  1.000000 -0.177383  0.374044\n",
              "B       -0.385064  0.175520 -0.356977  0.048788 -0.380051  0.128069 -0.273534  0.291512 -0.444413 -0.441808 -0.177383  1.000000 -0.366087\n",
              "LSTAT    0.455621 -0.412995  0.603800 -0.053929  0.590879 -0.613808  0.602339 -0.496996  0.488676  0.543993  0.374044 -0.366087  1.000000"
            ]
          },
          "metadata": {},
          "execution_count": 3
        }
      ]
    },
    {
      "cell_type": "code",
      "source": [
        "import seaborn as sns\n",
        "plt.figure(figsize=(20, 10))\n",
        "sns.heatmap(data.corr().abs(),  annot=True)"
      ],
      "metadata": {
        "colab": {
          "base_uri": "https://localhost:8080/",
          "height": 609
        },
        "id": "7-QDxdKCA-2r",
        "outputId": "6eadbe70-0a5e-4874-b7e8-b47e3cb88fbb"
      },
      "execution_count": 4,
      "outputs": [
        {
          "output_type": "execute_result",
          "data": {
            "text/plain": [
              "<matplotlib.axes._subplots.AxesSubplot at 0x7fddf29f7650>"
            ]
          },
          "metadata": {},
          "execution_count": 4
        },
        {
          "output_type": "display_data",
          "data": {
            "image/png": "[encoded data removed]",
            "text/plain": [
              "<Figure size 1440x720 with 2 Axes>"
            ]
          },
          "metadata": {
            "needs_background": "light"
          }
        }
      ]
    },
    {
      "cell_type": "markdown",
      "source": [
        "From correlation matrix, we see TAX and RAD are highly correlated features. "
      ],
      "metadata": {
        "id": "6fo2qIxAFSI2"
      }
    },
    {
      "cell_type": "code",
      "source": [
        "rawdf = pd.DataFrame.from_records(data)\n",
        "#rawdf['CATMEDV'] = rawdf['CATMEDV'].str.decode('utf-8') # convert byte string to string\n",
        "rawdf.info()"
      ],
      "metadata": {
        "colab": {
          "base_uri": "https://localhost:8080/"
        },
        "id": "AvPjnfbV5ara",
        "outputId": "7daf5c99-73c9-4ba6-a753-81031248389a"
      },
      "execution_count": 5,
      "outputs": [
        {
          "output_type": "stream",
          "name": "stdout",
          "text": [
            "<class 'pandas.core.frame.DataFrame'>\n",
            "RangeIndex: 506 entries, 0 to 505\n",
            "Data columns (total 14 columns):\n",
            " #   Column   Non-Null Count  Dtype  \n",
            "---  ------   --------------  -----  \n",
            " 0   CRIM     506 non-null    float64\n",
            " 1   ZN       506 non-null    float64\n",
            " 2   INDUS    506 non-null    float64\n",
            " 3   CHAS     506 non-null    int64  \n",
            " 4   NOX      506 non-null    float64\n",
            " 5   RM       506 non-null    float64\n",
            " 6   AGE      506 non-null    float64\n",
            " 7   DIS      506 non-null    float64\n",
            " 8   RAD      506 non-null    int64  \n",
            " 9   TAX      506 non-null    int64  \n",
            " 10  PTRATIO  506 non-null    float64\n",
            " 11  B        506 non-null    float64\n",
            " 12  LSTAT    506 non-null    float64\n",
            " 13  CATMEDV  506 non-null    object \n",
            "dtypes: float64(10), int64(3), object(1)\n",
            "memory usage: 55.5+ KB\n"
          ]
        }
      ]
    },
    {
      "cell_type": "code",
      "source": [
        "rawdf"
      ],
      "metadata": {
        "colab": {
          "base_uri": "https://localhost:8080/",
          "height": 423
        },
        "id": "g4aZAbVF6jom",
        "outputId": "0a93223e-d2ec-435e-be8f-eeb765401275"
      },
      "execution_count": 6,
      "outputs": [
        {
          "output_type": "execute_result",
          "data": {
            "text/html": [
              "\n",
              "  <div id=\"df-eeb602a5-f0a7-4921-8de0-92ffbbb2413a\">\n",
              "    <div class=\"colab-df-container\">\n",
              "      <div>\n",
              "<style scoped>\n",
              "    .dataframe tbody tr th:only-of-type {\n",
              "        vertical-align: middle;\n",
              "    }\n",
              "\n",
              "    .dataframe tbody tr th {\n",
              "        vertical-align: top;\n",
              "    }\n",
              "\n",
              "    .dataframe thead th {\n",
              "        text-align: right;\n",
              "    }\n",
              "</style>\n",
              "<table border=\"1\" class=\"dataframe\">\n",
              "  <thead>\n",
              "    <tr style=\"text-align: right;\">\n",
              "      <th></th>\n",
              "      <th>CRIM</th>\n",
              "      <th>ZN</th>\n",
              "      <th>INDUS</th>\n",
              "      <th>CHAS</th>\n",
              "      <th>NOX</th>\n",
              "      <th>RM</th>\n",
              "      <th>AGE</th>\n",
              "      <th>DIS</th>\n",
              "      <th>RAD</th>\n",
              "      <th>TAX</th>\n",
              "      <th>PTRATIO</th>\n",
              "      <th>B</th>\n",
              "      <th>LSTAT</th>\n",
              "      <th>CATMEDV</th>\n",
              "    </tr>\n",
              "  </thead>\n",
              "  <tbody>\n",
              "    <tr>\n",
              "      <th>0</th>\n",
              "      <td>0.00632</td>\n",
              "      <td>18.0</td>\n",
              "      <td>2.31</td>\n",
              "      <td>0</td>\n",
              "      <td>0.538</td>\n",
              "      <td>6.575</td>\n",
              "      <td>65.2</td>\n",
              "      <td>4.0900</td>\n",
              "      <td>1</td>\n",
              "      <td>296</td>\n",
              "      <td>15.3</td>\n",
              "      <td>396.90</td>\n",
              "      <td>4.98</td>\n",
              "      <td>low</td>\n",
              "    </tr>\n",
              "    <tr>\n",
              "      <th>1</th>\n",
              "      <td>0.02731</td>\n",
              "      <td>0.0</td>\n",
              "      <td>7.07</td>\n",
              "      <td>0</td>\n",
              "      <td>0.469</td>\n",
              "      <td>6.421</td>\n",
              "      <td>78.9</td>\n",
              "      <td>4.9671</td>\n",
              "      <td>2</td>\n",
              "      <td>242</td>\n",
              "      <td>17.8</td>\n",
              "      <td>396.90</td>\n",
              "      <td>9.14</td>\n",
              "      <td>low</td>\n",
              "    </tr>\n",
              "    <tr>\n",
              "      <th>2</th>\n",
              "      <td>0.02729</td>\n",
              "      <td>0.0</td>\n",
              "      <td>7.07</td>\n",
              "      <td>0</td>\n",
              "      <td>0.469</td>\n",
              "      <td>7.185</td>\n",
              "      <td>61.1</td>\n",
              "      <td>4.9671</td>\n",
              "      <td>2</td>\n",
              "      <td>242</td>\n",
              "      <td>17.8</td>\n",
              "      <td>392.83</td>\n",
              "      <td>4.03</td>\n",
              "      <td>high</td>\n",
              "    </tr>\n",
              "    <tr>\n",
              "      <th>3</th>\n",
              "      <td>0.03237</td>\n",
              "      <td>0.0</td>\n",
              "      <td>2.18</td>\n",
              "      <td>0</td>\n",
              "      <td>0.458</td>\n",
              "      <td>6.998</td>\n",
              "      <td>45.8</td>\n",
              "      <td>6.0622</td>\n",
              "      <td>3</td>\n",
              "      <td>222</td>\n",
              "      <td>18.7</td>\n",
              "      <td>394.63</td>\n",
              "      <td>2.94</td>\n",
              "      <td>high</td>\n",
              "    </tr>\n",
              "    <tr>\n",
              "      <th>4</th>\n",
              "      <td>0.06905</td>\n",
              "      <td>0.0</td>\n",
              "      <td>2.18</td>\n",
              "      <td>0</td>\n",
              "      <td>0.458</td>\n",
              "      <td>7.147</td>\n",
              "      <td>54.2</td>\n",
              "      <td>6.0622</td>\n",
              "      <td>3</td>\n",
              "      <td>222</td>\n",
              "      <td>18.7</td>\n",
              "      <td>396.90</td>\n",
              "      <td>5.33</td>\n",
              "      <td>high</td>\n",
              "    </tr>\n",
              "    <tr>\n",
              "      <th>...</th>\n",
              "      <td>...</td>\n",
              "      <td>...</td>\n",
              "      <td>...</td>\n",
              "      <td>...</td>\n",
              "      <td>...</td>\n",
              "      <td>...</td>\n",
              "      <td>...</td>\n",
              "      <td>...</td>\n",
              "      <td>...</td>\n",
              "      <td>...</td>\n",
              "      <td>...</td>\n",
              "      <td>...</td>\n",
              "      <td>...</td>\n",
              "      <td>...</td>\n",
              "    </tr>\n",
              "    <tr>\n",
              "      <th>501</th>\n",
              "      <td>0.06263</td>\n",
              "      <td>0.0</td>\n",
              "      <td>11.93</td>\n",
              "      <td>0</td>\n",
              "      <td>0.573</td>\n",
              "      <td>6.593</td>\n",
              "      <td>69.1</td>\n",
              "      <td>2.4786</td>\n",
              "      <td>1</td>\n",
              "      <td>273</td>\n",
              "      <td>21.0</td>\n",
              "      <td>391.99</td>\n",
              "      <td>9.67</td>\n",
              "      <td>low</td>\n",
              "    </tr>\n",
              "    <tr>\n",
              "      <th>502</th>\n",
              "      <td>0.04527</td>\n",
              "      <td>0.0</td>\n",
              "      <td>11.93</td>\n",
              "      <td>0</td>\n",
              "      <td>0.573</td>\n",
              "      <td>6.120</td>\n",
              "      <td>76.7</td>\n",
              "      <td>2.2875</td>\n",
              "      <td>1</td>\n",
              "      <td>273</td>\n",
              "      <td>21.0</td>\n",
              "      <td>396.90</td>\n",
              "      <td>9.08</td>\n",
              "      <td>low</td>\n",
              "    </tr>\n",
              "    <tr>\n",
              "      <th>503</th>\n",
              "      <td>0.06076</td>\n",
              "      <td>0.0</td>\n",
              "      <td>11.93</td>\n",
              "      <td>0</td>\n",
              "      <td>0.573</td>\n",
              "      <td>6.976</td>\n",
              "      <td>91.0</td>\n",
              "      <td>2.1675</td>\n",
              "      <td>1</td>\n",
              "      <td>273</td>\n",
              "      <td>21.0</td>\n",
              "      <td>396.90</td>\n",
              "      <td>5.64</td>\n",
              "      <td>low</td>\n",
              "    </tr>\n",
              "    <tr>\n",
              "      <th>504</th>\n",
              "      <td>0.10959</td>\n",
              "      <td>0.0</td>\n",
              "      <td>11.93</td>\n",
              "      <td>0</td>\n",
              "      <td>0.573</td>\n",
              "      <td>6.794</td>\n",
              "      <td>89.3</td>\n",
              "      <td>2.3889</td>\n",
              "      <td>1</td>\n",
              "      <td>273</td>\n",
              "      <td>21.0</td>\n",
              "      <td>393.45</td>\n",
              "      <td>6.48</td>\n",
              "      <td>low</td>\n",
              "    </tr>\n",
              "    <tr>\n",
              "      <th>505</th>\n",
              "      <td>0.04741</td>\n",
              "      <td>0.0</td>\n",
              "      <td>11.93</td>\n",
              "      <td>0</td>\n",
              "      <td>0.573</td>\n",
              "      <td>6.030</td>\n",
              "      <td>80.8</td>\n",
              "      <td>2.5050</td>\n",
              "      <td>1</td>\n",
              "      <td>273</td>\n",
              "      <td>21.0</td>\n",
              "      <td>396.90</td>\n",
              "      <td>7.88</td>\n",
              "      <td>low</td>\n",
              "    </tr>\n",
              "  </tbody>\n",
              "</table>\n",
              "<p>506 rows × 14 columns</p>\n",
              "</div>\n",
              "      <button class=\"colab-df-convert\" onclick=\"convertToInteractive('df-eeb602a5-f0a7-4921-8de0-92ffbbb2413a')\"\n",
              "              title=\"Convert this dataframe to an interactive table.\"\n",
              "              style=\"display:none;\">\n",
              "        \n",
              "  <svg xmlns=\"http://www.w3.org/2000/svg\" height=\"24px\"viewBox=\"0 0 24 24\"\n",
              "       width=\"24px\">\n",
              "    <path d=\"M0 0h24v24H0V0z\" fill=\"none\"/>\n",
              "    <path d=\"M18.56 5.44l.94 2.06.94-2.06 2.06-.94-2.06-.94-.94-2.06-.94 2.06-2.06.94zm-11 1L8.5 8.5l.94-2.06 2.06-.94-2.06-.94L8.5 2.5l-.94 2.06-2.06.94zm10 10l.94 2.06.94-2.06 2.06-.94-2.06-.94-.94-2.06-.94 2.06-2.06.94z\"/><path d=\"M17.41 7.96l-1.37-1.37c-.4-.4-.92-.59-1.43-.59-.52 0-1.04.2-1.43.59L10.3 9.45l-7.72 7.72c-.78.78-.78 2.05 0 2.83L4 21.41c.39.39.9.59 1.41.59.51 0 1.02-.2 1.41-.59l7.78-7.78 2.81-2.81c.8-.78.8-2.07 0-2.86zM5.41 20L4 18.59l7.72-7.72 1.47 1.35L5.41 20z\"/>\n",
              "  </svg>\n",
              "      </button>\n",
              "      \n",
              "  <style>\n",
              "    .colab-df-container {\n",
              "      display:flex;\n",
              "      flex-wrap:wrap;\n",
              "      gap: 12px;\n",
              "    }\n",
              "\n",
              "    .colab-df-convert {\n",
              "      background-color: #E8F0FE;\n",
              "      border: none;\n",
              "      border-radius: 50%;\n",
              "      cursor: pointer;\n",
              "      display: none;\n",
              "      fill: #1967D2;\n",
              "      height: 32px;\n",
              "      padding: 0 0 0 0;\n",
              "      width: 32px;\n",
              "    }\n",
              "\n",
              "    .colab-df-convert:hover {\n",
              "      background-color: #E2EBFA;\n",
              "      box-shadow: 0px 1px 2px rgba(60, 64, 67, 0.3), 0px 1px 3px 1px rgba(60, 64, 67, 0.15);\n",
              "      fill: #174EA6;\n",
              "    }\n",
              "\n",
              "    [theme=dark] .colab-df-convert {\n",
              "      background-color: #3B4455;\n",
              "      fill: #D2E3FC;\n",
              "    }\n",
              "\n",
              "    [theme=dark] .colab-df-convert:hover {\n",
              "      background-color: #434B5C;\n",
              "      box-shadow: 0px 1px 3px 1px rgba(0, 0, 0, 0.15);\n",
              "      filter: drop-shadow(0px 1px 2px rgba(0, 0, 0, 0.3));\n",
              "      fill: #FFFFFF;\n",
              "    }\n",
              "  </style>\n",
              "\n",
              "      <script>\n",
              "        const buttonEl =\n",
              "          document.querySelector('#df-eeb602a5-f0a7-4921-8de0-92ffbbb2413a button.colab-df-convert');\n",
              "        buttonEl.style.display =\n",
              "          google.colab.kernel.accessAllowed ? 'block' : 'none';\n",
              "\n",
              "        async function convertToInteractive(key) {\n",
              "          const element = document.querySelector('#df-eeb602a5-f0a7-4921-8de0-92ffbbb2413a');\n",
              "          const dataTable =\n",
              "            await google.colab.kernel.invokeFunction('convertToInteractive',\n",
              "                                                     [key], {});\n",
              "          if (!dataTable) return;\n",
              "\n",
              "          const docLinkHtml = 'Like what you see? Visit the ' +\n",
              "            '<a target=\"_blank\" href=https://colab.research.google.com/notebooks/data_table.ipynb>data table notebook</a>'\n",
              "            + ' to learn more about interactive tables.';\n",
              "          element.innerHTML = '';\n",
              "          dataTable['output_type'] = 'display_data';\n",
              "          await google.colab.output.renderOutput(dataTable, element);\n",
              "          const docLink = document.createElement('div');\n",
              "          docLink.innerHTML = docLinkHtml;\n",
              "          element.appendChild(docLink);\n",
              "        }\n",
              "      </script>\n",
              "    </div>\n",
              "  </div>\n",
              "  "
            ],
            "text/plain": [
              "        CRIM    ZN  INDUS  CHAS    NOX     RM   AGE     DIS  RAD  TAX  PTRATIO       B  LSTAT CATMEDV\n",
              "0    0.00632  18.0   2.31     0  0.538  6.575  65.2  4.0900    1  296     15.3  396.90   4.98     low\n",
              "1    0.02731   0.0   7.07     0  0.469  6.421  78.9  4.9671    2  242     17.8  396.90   9.14     low\n",
              "2    0.02729   0.0   7.07     0  0.469  7.185  61.1  4.9671    2  242     17.8  392.83   4.03    high\n",
              "3    0.03237   0.0   2.18     0  0.458  6.998  45.8  6.0622    3  222     18.7  394.63   2.94    high\n",
              "4    0.06905   0.0   2.18     0  0.458  7.147  54.2  6.0622    3  222     18.7  396.90   5.33    high\n",
              "..       ...   ...    ...   ...    ...    ...   ...     ...  ...  ...      ...     ...    ...     ...\n",
              "501  0.06263   0.0  11.93     0  0.573  6.593  69.1  2.4786    1  273     21.0  391.99   9.67     low\n",
              "502  0.04527   0.0  11.93     0  0.573  6.120  76.7  2.2875    1  273     21.0  396.90   9.08     low\n",
              "503  0.06076   0.0  11.93     0  0.573  6.976  91.0  2.1675    1  273     21.0  396.90   5.64     low\n",
              "504  0.10959   0.0  11.93     0  0.573  6.794  89.3  2.3889    1  273     21.0  393.45   6.48     low\n",
              "505  0.04741   0.0  11.93     0  0.573  6.030  80.8  2.5050    1  273     21.0  396.90   7.88     low\n",
              "\n",
              "[506 rows x 14 columns]"
            ]
          },
          "metadata": {},
          "execution_count": 6
        }
      ]
    },
    {
      "cell_type": "code",
      "source": [
        "rawdf.replace({'CATMEDV':{'low':0,'high':1}}, inplace = True)"
      ],
      "metadata": {
        "id": "Tpd72rPmHA3G"
      },
      "execution_count": 7,
      "outputs": []
    },
    {
      "cell_type": "code",
      "source": [
        "# Build SVC model\n",
        "X = rawdf.drop (['CATMEDV','RAD','TAX','CHAS'], axis='columns')\n",
        "y = rawdf['CATMEDV']"
      ],
      "metadata": {
        "id": "engA1ulc_ggP"
      },
      "execution_count": 8,
      "outputs": []
    },
    {
      "cell_type": "code",
      "source": [
        "X.head(3)"
      ],
      "metadata": {
        "colab": {
          "base_uri": "https://localhost:8080/",
          "height": 143
        },
        "id": "A9eKG4QpRxw6",
        "outputId": "8f0d2b7d-0495-47da-bac1-cfeb355c80e7"
      },
      "execution_count": 9,
      "outputs": [
        {
          "output_type": "execute_result",
          "data": {
            "text/html": [
              "\n",
              "  <div id=\"df-f5606902-b0e9-46d5-a602-043224738f86\">\n",
              "    <div class=\"colab-df-container\">\n",
              "      <div>\n",
              "<style scoped>\n",
              "    .dataframe tbody tr th:only-of-type {\n",
              "        vertical-align: middle;\n",
              "    }\n",
              "\n",
              "    .dataframe tbody tr th {\n",
              "        vertical-align: top;\n",
              "    }\n",
              "\n",
              "    .dataframe thead th {\n",
              "        text-align: right;\n",
              "    }\n",
              "</style>\n",
              "<table border=\"1\" class=\"dataframe\">\n",
              "  <thead>\n",
              "    <tr style=\"text-align: right;\">\n",
              "      <th></th>\n",
              "      <th>CRIM</th>\n",
              "      <th>ZN</th>\n",
              "      <th>INDUS</th>\n",
              "      <th>NOX</th>\n",
              "      <th>RM</th>\n",
              "      <th>AGE</th>\n",
              "      <th>DIS</th>\n",
              "      <th>PTRATIO</th>\n",
              "      <th>B</th>\n",
              "      <th>LSTAT</th>\n",
              "    </tr>\n",
              "  </thead>\n",
              "  <tbody>\n",
              "    <tr>\n",
              "      <th>0</th>\n",
              "      <td>0.00632</td>\n",
              "      <td>18.0</td>\n",
              "      <td>2.31</td>\n",
              "      <td>0.538</td>\n",
              "      <td>6.575</td>\n",
              "      <td>65.2</td>\n",
              "      <td>4.0900</td>\n",
              "      <td>15.3</td>\n",
              "      <td>396.90</td>\n",
              "      <td>4.98</td>\n",
              "    </tr>\n",
              "    <tr>\n",
              "      <th>1</th>\n",
              "      <td>0.02731</td>\n",
              "      <td>0.0</td>\n",
              "      <td>7.07</td>\n",
              "      <td>0.469</td>\n",
              "      <td>6.421</td>\n",
              "      <td>78.9</td>\n",
              "      <td>4.9671</td>\n",
              "      <td>17.8</td>\n",
              "      <td>396.90</td>\n",
              "      <td>9.14</td>\n",
              "    </tr>\n",
              "    <tr>\n",
              "      <th>2</th>\n",
              "      <td>0.02729</td>\n",
              "      <td>0.0</td>\n",
              "      <td>7.07</td>\n",
              "      <td>0.469</td>\n",
              "      <td>7.185</td>\n",
              "      <td>61.1</td>\n",
              "      <td>4.9671</td>\n",
              "      <td>17.8</td>\n",
              "      <td>392.83</td>\n",
              "      <td>4.03</td>\n",
              "    </tr>\n",
              "  </tbody>\n",
              "</table>\n",
              "</div>\n",
              "      <button class=\"colab-df-convert\" onclick=\"convertToInteractive('df-f5606902-b0e9-46d5-a602-043224738f86')\"\n",
              "              title=\"Convert this dataframe to an interactive table.\"\n",
              "              style=\"display:none;\">\n",
              "        \n",
              "  <svg xmlns=\"http://www.w3.org/2000/svg\" height=\"24px\"viewBox=\"0 0 24 24\"\n",
              "       width=\"24px\">\n",
              "    <path d=\"M0 0h24v24H0V0z\" fill=\"none\"/>\n",
              "    <path d=\"M18.56 5.44l.94 2.06.94-2.06 2.06-.94-2.06-.94-.94-2.06-.94 2.06-2.06.94zm-11 1L8.5 8.5l.94-2.06 2.06-.94-2.06-.94L8.5 2.5l-.94 2.06-2.06.94zm10 10l.94 2.06.94-2.06 2.06-.94-2.06-.94-.94-2.06-.94 2.06-2.06.94z\"/><path d=\"M17.41 7.96l-1.37-1.37c-.4-.4-.92-.59-1.43-.59-.52 0-1.04.2-1.43.59L10.3 9.45l-7.72 7.72c-.78.78-.78 2.05 0 2.83L4 21.41c.39.39.9.59 1.41.59.51 0 1.02-.2 1.41-.59l7.78-7.78 2.81-2.81c.8-.78.8-2.07 0-2.86zM5.41 20L4 18.59l7.72-7.72 1.47 1.35L5.41 20z\"/>\n",
              "  </svg>\n",
              "      </button>\n",
              "      \n",
              "  <style>\n",
              "    .colab-df-container {\n",
              "      display:flex;\n",
              "      flex-wrap:wrap;\n",
              "      gap: 12px;\n",
              "    }\n",
              "\n",
              "    .colab-df-convert {\n",
              "      background-color: #E8F0FE;\n",
              "      border: none;\n",
              "      border-radius: 50%;\n",
              "      cursor: pointer;\n",
              "      display: none;\n",
              "      fill: #1967D2;\n",
              "      height: 32px;\n",
              "      padding: 0 0 0 0;\n",
              "      width: 32px;\n",
              "    }\n",
              "\n",
              "    .colab-df-convert:hover {\n",
              "      background-color: #E2EBFA;\n",
              "      box-shadow: 0px 1px 2px rgba(60, 64, 67, 0.3), 0px 1px 3px 1px rgba(60, 64, 67, 0.15);\n",
              "      fill: #174EA6;\n",
              "    }\n",
              "\n",
              "    [theme=dark] .colab-df-convert {\n",
              "      background-color: #3B4455;\n",
              "      fill: #D2E3FC;\n",
              "    }\n",
              "\n",
              "    [theme=dark] .colab-df-convert:hover {\n",
              "      background-color: #434B5C;\n",
              "      box-shadow: 0px 1px 3px 1px rgba(0, 0, 0, 0.15);\n",
              "      filter: drop-shadow(0px 1px 2px rgba(0, 0, 0, 0.3));\n",
              "      fill: #FFFFFF;\n",
              "    }\n",
              "  </style>\n",
              "\n",
              "      <script>\n",
              "        const buttonEl =\n",
              "          document.querySelector('#df-f5606902-b0e9-46d5-a602-043224738f86 button.colab-df-convert');\n",
              "        buttonEl.style.display =\n",
              "          google.colab.kernel.accessAllowed ? 'block' : 'none';\n",
              "\n",
              "        async function convertToInteractive(key) {\n",
              "          const element = document.querySelector('#df-f5606902-b0e9-46d5-a602-043224738f86');\n",
              "          const dataTable =\n",
              "            await google.colab.kernel.invokeFunction('convertToInteractive',\n",
              "                                                     [key], {});\n",
              "          if (!dataTable) return;\n",
              "\n",
              "          const docLinkHtml = 'Like what you see? Visit the ' +\n",
              "            '<a target=\"_blank\" href=https://colab.research.google.com/notebooks/data_table.ipynb>data table notebook</a>'\n",
              "            + ' to learn more about interactive tables.';\n",
              "          element.innerHTML = '';\n",
              "          dataTable['output_type'] = 'display_data';\n",
              "          await google.colab.output.renderOutput(dataTable, element);\n",
              "          const docLink = document.createElement('div');\n",
              "          docLink.innerHTML = docLinkHtml;\n",
              "          element.appendChild(docLink);\n",
              "        }\n",
              "      </script>\n",
              "    </div>\n",
              "  </div>\n",
              "  "
            ],
            "text/plain": [
              "      CRIM    ZN  INDUS    NOX     RM   AGE     DIS  PTRATIO       B  LSTAT\n",
              "0  0.00632  18.0   2.31  0.538  6.575  65.2  4.0900     15.3  396.90   4.98\n",
              "1  0.02731   0.0   7.07  0.469  6.421  78.9  4.9671     17.8  396.90   9.14\n",
              "2  0.02729   0.0   7.07  0.469  7.185  61.1  4.9671     17.8  392.83   4.03"
            ]
          },
          "metadata": {},
          "execution_count": 9
        }
      ]
    },
    {
      "cell_type": "code",
      "source": [
        "X.info()"
      ],
      "metadata": {
        "colab": {
          "base_uri": "https://localhost:8080/"
        },
        "id": "v06e10HLYprR",
        "outputId": "57d9dc3d-8b8f-4e10-a4b9-b14619fae3c8"
      },
      "execution_count": 10,
      "outputs": [
        {
          "output_type": "stream",
          "name": "stdout",
          "text": [
            "<class 'pandas.core.frame.DataFrame'>\n",
            "RangeIndex: 506 entries, 0 to 505\n",
            "Data columns (total 10 columns):\n",
            " #   Column   Non-Null Count  Dtype  \n",
            "---  ------   --------------  -----  \n",
            " 0   CRIM     506 non-null    float64\n",
            " 1   ZN       506 non-null    float64\n",
            " 2   INDUS    506 non-null    float64\n",
            " 3   NOX      506 non-null    float64\n",
            " 4   RM       506 non-null    float64\n",
            " 5   AGE      506 non-null    float64\n",
            " 6   DIS      506 non-null    float64\n",
            " 7   PTRATIO  506 non-null    float64\n",
            " 8   B        506 non-null    float64\n",
            " 9   LSTAT    506 non-null    float64\n",
            "dtypes: float64(10)\n",
            "memory usage: 39.7 KB\n"
          ]
        }
      ]
    },
    {
      "cell_type": "code",
      "source": [
        "y.head(3)"
      ],
      "metadata": {
        "colab": {
          "base_uri": "https://localhost:8080/"
        },
        "id": "bkH8DXa3R1mI",
        "outputId": "e3b163af-a487-4dd0-f322-8ec4dce2f67a"
      },
      "execution_count": 11,
      "outputs": [
        {
          "output_type": "execute_result",
          "data": {
            "text/plain": [
              "0    0\n",
              "1    0\n",
              "2    1\n",
              "Name: CATMEDV, dtype: int64"
            ]
          },
          "metadata": {},
          "execution_count": 11
        }
      ]
    },
    {
      "cell_type": "code",
      "source": [
        "from sklearn.model_selection import train_test_split\n",
        "#Splitting into test and train\n",
        "X_train, X_test, y_train, y_test = train_test_split(X, y, test_size=0.2, random_state=0)"
      ],
      "metadata": {
        "id": "KB_H0EqUC1Hk"
      },
      "execution_count": 12,
      "outputs": []
    },
    {
      "cell_type": "code",
      "source": [
        "# 10-fold cross validation - using cross_val_score\n",
        "\n",
        "# Pipelines to normalize numeric values and build SVM classifier\n",
        "\n",
        "from sklearn.pipeline import Pipeline\n",
        "from sklearn.preprocessing import MinMaxScaler #for normalization\n",
        "from sklearn.metrics import classification_report\n",
        "from sklearn.svm import SVC\n",
        "from sklearn.model_selection import GridSearchCV #for figuring out the best parameters from the listed hyperparameters\n",
        "#gridsearchCV automates the manual process of having to test various values/ types of \"C\", \"epsilon\", \"gamma\", and \"kernel\" and choose the best\n",
        "\n",
        "#scaler = MinMaxScaler()\n",
        "\n",
        "\n",
        "svc1 = SVC(C=[1, 5, 10, 50, 100, 500, 1000], kernel='linear')\n",
        "#svc1 = SVC(C=[0.1], kernel='linear')\n",
        "\n",
        "svc_pipe=Pipeline(steps=[('scaler', MinMaxScaler()),\n",
        "                 ('svc', SVC(C=[1, 5, 10, 50, 100, 500, 1000], kernel='linear'))]) #creating a pipeline\n",
        "\n",
        "\n",
        "\n",
        "param_grid = {'svc__C':[1, 5, 10, 50, 100, 500, 1000],'svc__gamma':[1,0.1,0.01,0.001,0.0001], 'svc__kernel':['linear']} #setting up a parameter grid\n",
        "\n",
        "grid_search = GridSearchCV(estimator=svc_pipe, param_grid=param_grid, cv=10, scoring=\"neg_mean_squared_error\")\n",
        "\n",
        "\n",
        "grid_search.fit(X_train,y_train)"
      ],
      "metadata": {
        "colab": {
          "base_uri": "https://localhost:8080/"
        },
        "id": "48MCbdlHEoHh",
        "outputId": "30bad357-2edc-4a01-c12c-07b0ba516658"
      },
      "execution_count": 13,
      "outputs": [
        {
          "output_type": "execute_result",
          "data": {
            "text/plain": [
              "GridSearchCV(cv=10,\n",
              "             estimator=Pipeline(steps=[('scaler', MinMaxScaler()),\n",
              "                                       ('svc',\n",
              "                                        SVC(C=[1, 5, 10, 50, 100, 500, 1000],\n",
              "                                            kernel='linear'))]),\n",
              "             param_grid={'svc__C': [1, 5, 10, 50, 100, 500, 1000],\n",
              "                         'svc__gamma': [1, 0.1, 0.01, 0.001, 0.0001],\n",
              "                         'svc__kernel': ['linear']},\n",
              "             scoring='neg_mean_squared_error')"
            ]
          },
          "metadata": {},
          "execution_count": 13
        }
      ]
    },
    {
      "cell_type": "code",
      "source": [
        "grid_search.best_params_ #use grid search to find the best C from C = [1, 5, 10, 50, 100, 500, 1000]"
      ],
      "metadata": {
        "colab": {
          "base_uri": "https://localhost:8080/"
        },
        "id": "HqcesKwOFZrK",
        "outputId": "6864ce33-0728-4e9e-aae6-2d842342329f"
      },
      "execution_count": 14,
      "outputs": [
        {
          "output_type": "execute_result",
          "data": {
            "text/plain": [
              "{'svc__C': 50, 'svc__gamma': 1, 'svc__kernel': 'linear'}"
            ]
          },
          "metadata": {},
          "execution_count": 14
        }
      ]
    },
    {
      "cell_type": "markdown",
      "source": [
        "The best C from C = [1, 5, 10, 50, 100, 500, 1000] is C=50"
      ],
      "metadata": {
        "id": "mdEYvCF4FifR"
      }
    },
    {
      "cell_type": "code",
      "source": [
        "grid_search.best_score_ #best score out of all the scores of multilple train test splits "
      ],
      "metadata": {
        "colab": {
          "base_uri": "https://localhost:8080/"
        },
        "id": "MmXzjcvgF2MA",
        "outputId": "019010ce-2563-454e-d9b6-a2c40bdf32ac"
      },
      "execution_count": 15,
      "outputs": [
        {
          "output_type": "execute_result",
          "data": {
            "text/plain": [
              "-0.04695121951219512"
            ]
          },
          "metadata": {},
          "execution_count": 15
        }
      ]
    },
    {
      "cell_type": "code",
      "source": [
        "grid_search.best_estimator_.steps[-1][1].coef_"
      ],
      "metadata": {
        "colab": {
          "base_uri": "https://localhost:8080/"
        },
        "id": "f8C_qelbHe9Z",
        "outputId": "c73f23c7-e763-4fd4-a3c3-d60a13910a78"
      },
      "execution_count": 16,
      "outputs": [
        {
          "output_type": "execute_result",
          "data": {
            "text/plain": [
              "array([[  3.24255609,   0.89305404,  -2.35445643,   0.63743685,\n",
              "         10.37926746,   0.92304309,  -1.88273637,  -3.42418396,\n",
              "          5.17269506, -10.99058788]])"
            ]
          },
          "metadata": {},
          "execution_count": 16
        }
      ]
    },
    {
      "cell_type": "markdown",
      "source": [
        "Confusion Matrix"
      ],
      "metadata": {
        "id": "9exRm4W2HxAB"
      }
    },
    {
      "cell_type": "code",
      "source": [
        "grid_pred=grid_search.predict(X_test)\n",
        "\n",
        "from sklearn.metrics import confusion_matrix\n",
        "confusion_matrix = confusion_matrix(y_test, grid_pred)\n",
        "print(confusion_matrix)\n",
        "\n",
        "#Confusion Matrix"
      ],
      "metadata": {
        "colab": {
          "base_uri": "https://localhost:8080/"
        },
        "id": "tbr4ntJLHstP",
        "outputId": "df8b3c57-9ad3-410c-b645-f603ced20852"
      },
      "execution_count": 17,
      "outputs": [
        {
          "output_type": "stream",
          "name": "stdout",
          "text": [
            "[[86  4]\n",
            " [ 3  9]]\n"
          ]
        }
      ]
    },
    {
      "cell_type": "markdown",
      "source": [
        "Precision, Recall, F1 score"
      ],
      "metadata": {
        "id": "tQ3ZketmH1GQ"
      }
    },
    {
      "cell_type": "code",
      "source": [
        "from sklearn.metrics import classification_report\n",
        "print(classification_report(y_test, grid_pred))\n",
        "\n",
        "#avg precision, recall, f1-score"
      ],
      "metadata": {
        "colab": {
          "base_uri": "https://localhost:8080/"
        },
        "id": "aG5I17QJH7Gr",
        "outputId": "6bca91bc-fefd-4920-e61e-1944d2f3a34e"
      },
      "execution_count": 18,
      "outputs": [
        {
          "output_type": "stream",
          "name": "stdout",
          "text": [
            "              precision    recall  f1-score   support\n",
            "\n",
            "           0       0.97      0.96      0.96        90\n",
            "           1       0.69      0.75      0.72        12\n",
            "\n",
            "    accuracy                           0.93       102\n",
            "   macro avg       0.83      0.85      0.84       102\n",
            "weighted avg       0.93      0.93      0.93       102\n",
            "\n"
          ]
        }
      ]
    },
    {
      "cell_type": "markdown",
      "source": [
        "Load salary1.arff file and convert record array to Dataframe and byte string to string. Build an SVR model, Plot the data, SVR and regression models."
      ],
      "metadata": {
        "id": "LpykkVaD0LIi"
      }
    },
    {
      "cell_type": "code",
      "source": [
        "# Load salary1.arff file and convert record array to dataframe and byte string to string\n",
        "import pandas as pd\n",
        "import numpy as np\n",
        "from scipy.io import arff\n",
        "data, meta = arff.loadarff('/content/drive/MyDrive/DataMining/Files/salary1.arff')\n",
        "print(data,meta)"
      ],
      "metadata": {
        "colab": {
          "base_uri": "https://localhost:8080/"
        },
        "id": "11VLxZpB0S-x",
        "outputId": "31106ecd-a3ef-4da2-8b37-23772f96407b"
      },
      "execution_count": 19,
      "outputs": [
        {
          "output_type": "stream",
          "name": "stdout",
          "text": [
            "[(10., 33.) (12., 36.) (12., 50.) (13., 51.) (14., 42.) (14., 45.)\n",
            " (15., 59.) (16., 49.) (16., 60.) (17., 72.) (18., 69.) (20., 77.)] Dataset: salary1\n",
            "\teducation's type is numeric\n",
            "\tsalary's type is numeric\n",
            "\n"
          ]
        }
      ]
    },
    {
      "cell_type": "markdown",
      "source": [
        "Byte string conversion is not needed as the data is numerical and not categorical"
      ],
      "metadata": {
        "id": "LdgtDPZDMzUC"
      }
    },
    {
      "cell_type": "code",
      "source": [
        "rawdf1 = pd.DataFrame.from_records(data)\n",
        "rawdf1.info()"
      ],
      "metadata": {
        "colab": {
          "base_uri": "https://localhost:8080/"
        },
        "id": "1YDAqWxMNc1Y",
        "outputId": "f1a7f20d-cc52-49e4-8398-caa692dfeb2d"
      },
      "execution_count": 20,
      "outputs": [
        {
          "output_type": "stream",
          "name": "stdout",
          "text": [
            "<class 'pandas.core.frame.DataFrame'>\n",
            "RangeIndex: 12 entries, 0 to 11\n",
            "Data columns (total 2 columns):\n",
            " #   Column     Non-Null Count  Dtype  \n",
            "---  ------     --------------  -----  \n",
            " 0   education  12 non-null     float64\n",
            " 1   salary     12 non-null     float64\n",
            "dtypes: float64(2)\n",
            "memory usage: 320.0 bytes\n"
          ]
        }
      ]
    },
    {
      "cell_type": "code",
      "source": [
        "rawdf1"
      ],
      "metadata": {
        "colab": {
          "base_uri": "https://localhost:8080/",
          "height": 425
        },
        "id": "g3nbQjv2RUV1",
        "outputId": "495db51e-5237-440a-d7a4-f4f525a3f838"
      },
      "execution_count": 21,
      "outputs": [
        {
          "output_type": "execute_result",
          "data": {
            "text/html": [
              "\n",
              "  <div id=\"df-ba6de4de-bb53-4c31-b828-a457dc745c7c\">\n",
              "    <div class=\"colab-df-container\">\n",
              "      <div>\n",
              "<style scoped>\n",
              "    .dataframe tbody tr th:only-of-type {\n",
              "        vertical-align: middle;\n",
              "    }\n",
              "\n",
              "    .dataframe tbody tr th {\n",
              "        vertical-align: top;\n",
              "    }\n",
              "\n",
              "    .dataframe thead th {\n",
              "        text-align: right;\n",
              "    }\n",
              "</style>\n",
              "<table border=\"1\" class=\"dataframe\">\n",
              "  <thead>\n",
              "    <tr style=\"text-align: right;\">\n",
              "      <th></th>\n",
              "      <th>education</th>\n",
              "      <th>salary</th>\n",
              "    </tr>\n",
              "  </thead>\n",
              "  <tbody>\n",
              "    <tr>\n",
              "      <th>0</th>\n",
              "      <td>10.0</td>\n",
              "      <td>33.0</td>\n",
              "    </tr>\n",
              "    <tr>\n",
              "      <th>1</th>\n",
              "      <td>12.0</td>\n",
              "      <td>36.0</td>\n",
              "    </tr>\n",
              "    <tr>\n",
              "      <th>2</th>\n",
              "      <td>12.0</td>\n",
              "      <td>50.0</td>\n",
              "    </tr>\n",
              "    <tr>\n",
              "      <th>3</th>\n",
              "      <td>13.0</td>\n",
              "      <td>51.0</td>\n",
              "    </tr>\n",
              "    <tr>\n",
              "      <th>4</th>\n",
              "      <td>14.0</td>\n",
              "      <td>42.0</td>\n",
              "    </tr>\n",
              "    <tr>\n",
              "      <th>5</th>\n",
              "      <td>14.0</td>\n",
              "      <td>45.0</td>\n",
              "    </tr>\n",
              "    <tr>\n",
              "      <th>6</th>\n",
              "      <td>15.0</td>\n",
              "      <td>59.0</td>\n",
              "    </tr>\n",
              "    <tr>\n",
              "      <th>7</th>\n",
              "      <td>16.0</td>\n",
              "      <td>49.0</td>\n",
              "    </tr>\n",
              "    <tr>\n",
              "      <th>8</th>\n",
              "      <td>16.0</td>\n",
              "      <td>60.0</td>\n",
              "    </tr>\n",
              "    <tr>\n",
              "      <th>9</th>\n",
              "      <td>17.0</td>\n",
              "      <td>72.0</td>\n",
              "    </tr>\n",
              "    <tr>\n",
              "      <th>10</th>\n",
              "      <td>18.0</td>\n",
              "      <td>69.0</td>\n",
              "    </tr>\n",
              "    <tr>\n",
              "      <th>11</th>\n",
              "      <td>20.0</td>\n",
              "      <td>77.0</td>\n",
              "    </tr>\n",
              "  </tbody>\n",
              "</table>\n",
              "</div>\n",
              "      <button class=\"colab-df-convert\" onclick=\"convertToInteractive('df-ba6de4de-bb53-4c31-b828-a457dc745c7c')\"\n",
              "              title=\"Convert this dataframe to an interactive table.\"\n",
              "              style=\"display:none;\">\n",
              "        \n",
              "  <svg xmlns=\"http://www.w3.org/2000/svg\" height=\"24px\"viewBox=\"0 0 24 24\"\n",
              "       width=\"24px\">\n",
              "    <path d=\"M0 0h24v24H0V0z\" fill=\"none\"/>\n",
              "    <path d=\"M18.56 5.44l.94 2.06.94-2.06 2.06-.94-2.06-.94-.94-2.06-.94 2.06-2.06.94zm-11 1L8.5 8.5l.94-2.06 2.06-.94-2.06-.94L8.5 2.5l-.94 2.06-2.06.94zm10 10l.94 2.06.94-2.06 2.06-.94-2.06-.94-.94-2.06-.94 2.06-2.06.94z\"/><path d=\"M17.41 7.96l-1.37-1.37c-.4-.4-.92-.59-1.43-.59-.52 0-1.04.2-1.43.59L10.3 9.45l-7.72 7.72c-.78.78-.78 2.05 0 2.83L4 21.41c.39.39.9.59 1.41.59.51 0 1.02-.2 1.41-.59l7.78-7.78 2.81-2.81c.8-.78.8-2.07 0-2.86zM5.41 20L4 18.59l7.72-7.72 1.47 1.35L5.41 20z\"/>\n",
              "  </svg>\n",
              "      </button>\n",
              "      \n",
              "  <style>\n",
              "    .colab-df-container {\n",
              "      display:flex;\n",
              "      flex-wrap:wrap;\n",
              "      gap: 12px;\n",
              "    }\n",
              "\n",
              "    .colab-df-convert {\n",
              "      background-color: #E8F0FE;\n",
              "      border: none;\n",
              "      border-radius: 50%;\n",
              "      cursor: pointer;\n",
              "      display: none;\n",
              "      fill: #1967D2;\n",
              "      height: 32px;\n",
              "      padding: 0 0 0 0;\n",
              "      width: 32px;\n",
              "    }\n",
              "\n",
              "    .colab-df-convert:hover {\n",
              "      background-color: #E2EBFA;\n",
              "      box-shadow: 0px 1px 2px rgba(60, 64, 67, 0.3), 0px 1px 3px 1px rgba(60, 64, 67, 0.15);\n",
              "      fill: #174EA6;\n",
              "    }\n",
              "\n",
              "    [theme=dark] .colab-df-convert {\n",
              "      background-color: #3B4455;\n",
              "      fill: #D2E3FC;\n",
              "    }\n",
              "\n",
              "    [theme=dark] .colab-df-convert:hover {\n",
              "      background-color: #434B5C;\n",
              "      box-shadow: 0px 1px 3px 1px rgba(0, 0, 0, 0.15);\n",
              "      filter: drop-shadow(0px 1px 2px rgba(0, 0, 0, 0.3));\n",
              "      fill: #FFFFFF;\n",
              "    }\n",
              "  </style>\n",
              "\n",
              "      <script>\n",
              "        const buttonEl =\n",
              "          document.querySelector('#df-ba6de4de-bb53-4c31-b828-a457dc745c7c button.colab-df-convert');\n",
              "        buttonEl.style.display =\n",
              "          google.colab.kernel.accessAllowed ? 'block' : 'none';\n",
              "\n",
              "        async function convertToInteractive(key) {\n",
              "          const element = document.querySelector('#df-ba6de4de-bb53-4c31-b828-a457dc745c7c');\n",
              "          const dataTable =\n",
              "            await google.colab.kernel.invokeFunction('convertToInteractive',\n",
              "                                                     [key], {});\n",
              "          if (!dataTable) return;\n",
              "\n",
              "          const docLinkHtml = 'Like what you see? Visit the ' +\n",
              "            '<a target=\"_blank\" href=https://colab.research.google.com/notebooks/data_table.ipynb>data table notebook</a>'\n",
              "            + ' to learn more about interactive tables.';\n",
              "          element.innerHTML = '';\n",
              "          dataTable['output_type'] = 'display_data';\n",
              "          await google.colab.output.renderOutput(dataTable, element);\n",
              "          const docLink = document.createElement('div');\n",
              "          docLink.innerHTML = docLinkHtml;\n",
              "          element.appendChild(docLink);\n",
              "        }\n",
              "      </script>\n",
              "    </div>\n",
              "  </div>\n",
              "  "
            ],
            "text/plain": [
              "    education  salary\n",
              "0        10.0    33.0\n",
              "1        12.0    36.0\n",
              "2        12.0    50.0\n",
              "3        13.0    51.0\n",
              "4        14.0    42.0\n",
              "5        14.0    45.0\n",
              "6        15.0    59.0\n",
              "7        16.0    49.0\n",
              "8        16.0    60.0\n",
              "9        17.0    72.0\n",
              "10       18.0    69.0\n",
              "11       20.0    77.0"
            ]
          },
          "metadata": {},
          "execution_count": 21
        }
      ]
    },
    {
      "cell_type": "code",
      "source": [
        "# Build SVR model\n",
        "X = rawdf1.drop('salary', axis='columns')\n",
        "y = rawdf1['salary']"
      ],
      "metadata": {
        "id": "UNB8NQVD56sw"
      },
      "execution_count": 22,
      "outputs": []
    },
    {
      "cell_type": "markdown",
      "source": [
        "Evaluation of SVR with Pipeline"
      ],
      "metadata": {
        "id": "xKMEjbYDOXqR"
      }
    },
    {
      "cell_type": "code",
      "source": [
        "# Pipelines to normalize numeric values and build SVM classifier\n",
        "from sklearn.pipeline import Pipeline\n",
        "from sklearn.preprocessing import MinMaxScaler\n",
        "from sklearn.svm import SVR\n",
        "from sklearn.model_selection import GridSearchCV\n",
        "\n",
        "#parameters = {'C':[1,5,10,50,100,500,1000], 'epsilon':[0.05, 0.1, 0.15, 0.2]}\n",
        "#parameters = {'kernel': ('linear', 'rbf','poly'), 'C':[1.5, 10],'gamma': [1e-7, 1e-4],'epsilon':[0.05, 0.1, 0.15, 0.2]}\n",
        "#parameters = {'kernel': ('linear'), 'C':[1,5,10,50,100,500,1000], 'epsilon':[0.05, 0.1, 0.15, 0.2]}\n",
        "#svr = SVR()\n",
        "#clf = GridSearchCV(svr, parameters)\n",
        "#clf.fit(X,y)\n",
        "#clf.best_params_\n",
        "\n",
        "\n",
        "\n",
        "svr_pipe = Pipeline([('scaler', MinMaxScaler()), ('linear_svr', SVR(epsilon=5, kernel='linear'))])\n",
        "#svr_pipe = Pipeline([('scaler', MinMaxScaler()), ('linear_svr', SVR(kernel='linear', gamma=1.0E-12))])\n",
        "#svr_pipe = Pipeline([('scaler', MinMaxScaler()), ('linear_svr', SVR(kernel='poly'))])\n",
        "\n",
        "#svr.fit(X, y)\n"
      ],
      "metadata": {
        "id": "1kLIamIPOPq5"
      },
      "execution_count": 23,
      "outputs": []
    },
    {
      "cell_type": "code",
      "source": [
        "# 10-fold cross validation - using cross_val_score\n",
        "from sklearn.model_selection import GridSearchCV\n",
        "#param_grid = {'linear_svr__kernel': ('linear', 'rbf','poly'), 'linear_svr__C': [1,5,10,50,100,500,1000], 'linear_svr__epsilon': [0.05, 0.1, 0.15, 0.2], 'linear_svr__gamma':[1e-7, 1e-4, 1.0E-12]}\n",
        "param_grid = {'linear_svr__C': [1,5,10,50,100,500,1000], 'linear_svr__epsilon': [0.05, 0.1, 0.15, 0.2]}\n",
        "#param_grid = {'linear_svr__C': [5], 'linear_svr__epsilon': [0.15]}\n",
        "grid_search = GridSearchCV(svr_pipe, param_grid, cv=10, scoring=\"neg_mean_squared_error\")\n",
        "#grid_search = GridSearchCV(svr_pipe, param_grid, cv=10)\n",
        "grid_search.fit(X, y)"
      ],
      "metadata": {
        "colab": {
          "base_uri": "https://localhost:8080/"
        },
        "id": "O1Uqw8-_O4yl",
        "outputId": "1959e170-5cbb-4ff9-af3b-caabd314496e"
      },
      "execution_count": 24,
      "outputs": [
        {
          "output_type": "execute_result",
          "data": {
            "text/plain": [
              "GridSearchCV(cv=10,\n",
              "             estimator=Pipeline(steps=[('scaler', MinMaxScaler()),\n",
              "                                       ('linear_svr',\n",
              "                                        SVR(epsilon=5, kernel='linear'))]),\n",
              "             param_grid={'linear_svr__C': [1, 5, 10, 50, 100, 500, 1000],\n",
              "                         'linear_svr__epsilon': [0.05, 0.1, 0.15, 0.2]},\n",
              "             scoring='neg_mean_squared_error')"
            ]
          },
          "metadata": {},
          "execution_count": 24
        }
      ]
    },
    {
      "cell_type": "code",
      "source": [
        "grid_search.best_params_"
      ],
      "metadata": {
        "colab": {
          "base_uri": "https://localhost:8080/"
        },
        "id": "LHtXVledPBNe",
        "outputId": "cff186d1-5a82-4780-d27b-77e3025f9050"
      },
      "execution_count": 25,
      "outputs": [
        {
          "output_type": "execute_result",
          "data": {
            "text/plain": [
              "{'linear_svr__C': 500, 'linear_svr__epsilon': 0.2}"
            ]
          },
          "metadata": {},
          "execution_count": 25
        }
      ]
    },
    {
      "cell_type": "markdown",
      "source": [
        "Best C = 500"
      ],
      "metadata": {
        "id": "cjr09D6KPGIl"
      }
    },
    {
      "cell_type": "code",
      "source": [
        "grid_search.best_score_"
      ],
      "metadata": {
        "colab": {
          "base_uri": "https://localhost:8080/"
        },
        "id": "MSgW8PBcPJ0c",
        "outputId": "d79c7594-0ca2-4b59-ce89-256e43967c7c"
      },
      "execution_count": 26,
      "outputs": [
        {
          "output_type": "execute_result",
          "data": {
            "text/plain": [
              "-44.765445826752824"
            ]
          },
          "metadata": {},
          "execution_count": 26
        }
      ]
    },
    {
      "cell_type": "code",
      "source": [
        "grid_search.best_estimator_.steps[-1][1].coef_"
      ],
      "metadata": {
        "colab": {
          "base_uri": "https://localhost:8080/"
        },
        "id": "R1jJVzWjPMt0",
        "outputId": "b9626915-0e69-4723-f1d2-f5b240102fb9"
      },
      "execution_count": 27,
      "outputs": [
        {
          "output_type": "execute_result",
          "data": {
            "text/plain": [
              "array([[44.33335644]])"
            ]
          },
          "metadata": {},
          "execution_count": 27
        }
      ]
    },
    {
      "cell_type": "code",
      "source": [
        "import math\n",
        "from sklearn.metrics import mean_absolute_error \n",
        "from sklearn.metrics import mean_squared_error \n",
        "pred_y=grid_search.predict(X)\n",
        "\n",
        "#score=grid_search.score(X,y)\n",
        "#print(score)\n",
        "\n",
        "mse=mean_squared_error(y, pred_y)\n",
        "#print(\"Mean Squared Error:\",mse)\n",
        "rmse=math.sqrt(mse)\n",
        "print(\"Root Mean Squared Error:\", rmse)\n",
        "\n",
        "mse=mean_absolute_error(y, pred_y)\n",
        "#mse=mean_absolute_error(y, pred_y, multioutput='raw_values')\n",
        "print(\"Mean Absolute Error:\",mse)"
      ],
      "metadata": {
        "colab": {
          "base_uri": "https://localhost:8080/"
        },
        "id": "3leT8LDqPWN0",
        "outputId": "1cfbbf4f-c460-45dc-be89-7fe19dfa2212"
      },
      "execution_count": 28,
      "outputs": [
        {
          "output_type": "stream",
          "name": "stdout",
          "text": [
            "Root Mean Squared Error: 5.955662955967093\n",
            "Mean Absolute Error: 4.736110148390507\n"
          ]
        }
      ]
    },
    {
      "cell_type": "code",
      "source": [
        "# print(grid_search.cv_results_)\n",
        "cvresult = grid_search.cv_results_\n",
        "for mean_test_score, params in zip(cvresult['mean_test_score'], cvresult['params']):\n",
        "    print(mean_test_score, params)"
      ],
      "metadata": {
        "colab": {
          "base_uri": "https://localhost:8080/"
        },
        "id": "vlm6FDlHPbSW",
        "outputId": "59954e5c-a7a1-474a-a0a0-df6e8cb729b3"
      },
      "execution_count": 29,
      "outputs": [
        {
          "output_type": "stream",
          "name": "stdout",
          "text": [
            "-210.87766415458918 {'linear_svr__C': 1, 'linear_svr__epsilon': 0.05}\n",
            "-210.87766415458918 {'linear_svr__C': 1, 'linear_svr__epsilon': 0.1}\n",
            "-210.87766415458918 {'linear_svr__C': 1, 'linear_svr__epsilon': 0.15}\n",
            "-210.87766415458918 {'linear_svr__C': 1, 'linear_svr__epsilon': 0.2}\n",
            "-143.80891615596414 {'linear_svr__C': 5, 'linear_svr__epsilon': 0.05}\n",
            "-144.29704129798338 {'linear_svr__C': 5, 'linear_svr__epsilon': 0.1}\n",
            "-145.101853895884 {'linear_svr__C': 5, 'linear_svr__epsilon': 0.15}\n",
            "-145.98310389692713 {'linear_svr__C': 5, 'linear_svr__epsilon': 0.2}\n",
            "-106.92418826955557 {'linear_svr__C': 10, 'linear_svr__epsilon': 0.05}\n",
            "-107.1160632695556 {'linear_svr__C': 10, 'linear_svr__epsilon': 0.1}\n",
            "-107.30918826955558 {'linear_svr__C': 10, 'linear_svr__epsilon': 0.15}\n",
            "-107.5035632695556 {'linear_svr__C': 10, 'linear_svr__epsilon': 0.2}\n",
            "-52.10914371869321 {'linear_svr__C': 50, 'linear_svr__epsilon': 0.05}\n",
            "-52.253526353640936 {'linear_svr__C': 50, 'linear_svr__epsilon': 0.1}\n",
            "-52.40436397070433 {'linear_svr__C': 50, 'linear_svr__epsilon': 0.15}\n",
            "-52.56165659210806 {'linear_svr__C': 50, 'linear_svr__epsilon': 0.2}\n",
            "-47.31025453579236 {'linear_svr__C': 100, 'linear_svr__epsilon': 0.05}\n",
            "-47.14857445749685 {'linear_svr__C': 100, 'linear_svr__epsilon': 0.1}\n",
            "-46.99297476362707 {'linear_svr__C': 100, 'linear_svr__epsilon': 0.15}\n",
            "-46.84345471483461 {'linear_svr__C': 100, 'linear_svr__epsilon': 0.2}\n",
            "-45.62974547926026 {'linear_svr__C': 500, 'linear_svr__epsilon': 0.05}\n",
            "-45.33656554398844 {'linear_svr__C': 500, 'linear_svr__epsilon': 0.1}\n",
            "-45.048465631901614 {'linear_svr__C': 500, 'linear_svr__epsilon': 0.15}\n",
            "-44.765445826752824 {'linear_svr__C': 500, 'linear_svr__epsilon': 0.2}\n",
            "-45.6297484965322 {'linear_svr__C': 1000, 'linear_svr__epsilon': 0.05}\n",
            "-45.33656862191763 {'linear_svr__C': 1000, 'linear_svr__epsilon': 0.1}\n",
            "-45.048468740414634 {'linear_svr__C': 1000, 'linear_svr__epsilon': 0.15}\n",
            "-44.76544888314841 {'linear_svr__C': 1000, 'linear_svr__epsilon': 0.2}\n"
          ]
        }
      ]
    },
    {
      "cell_type": "code",
      "source": [
        "# Build SVR model\n",
        "X = rawdf1.drop('salary', axis='columns')\n",
        "y = rawdf1['salary']"
      ],
      "metadata": {
        "id": "QcPwEHNZSEfO"
      },
      "execution_count": 30,
      "outputs": []
    },
    {
      "cell_type": "code",
      "source": [
        "from sklearn.linear_model import LinearRegression"
      ],
      "metadata": {
        "id": "iOBplHACi5tI"
      },
      "execution_count": 31,
      "outputs": []
    },
    {
      "cell_type": "code",
      "source": [
        "lm = LinearRegression()"
      ],
      "metadata": {
        "id": "Kh_kovPNkRTD"
      },
      "execution_count": 32,
      "outputs": []
    },
    {
      "cell_type": "code",
      "source": [
        "lm.fit(X,y)"
      ],
      "metadata": {
        "colab": {
          "base_uri": "https://localhost:8080/"
        },
        "id": "SEwJDHwnkV0l",
        "outputId": "4dc19d99-b3af-42cb-98a9-0588fa9ae38a"
      },
      "execution_count": 33,
      "outputs": [
        {
          "output_type": "execute_result",
          "data": {
            "text/plain": [
              "LinearRegression()"
            ]
          },
          "metadata": {},
          "execution_count": 33
        }
      ]
    },
    {
      "cell_type": "code",
      "source": [
        "y_reg = lm.predict(X)"
      ],
      "metadata": {
        "id": "qidsDf_qkelk"
      },
      "execution_count": 34,
      "outputs": []
    },
    {
      "cell_type": "code",
      "source": [
        "regression = SVR(kernel='linear')\n",
        "regression.fit(X,y)\n",
        "\n",
        "#Split dataset to be input here \n",
        "svr_result = regression.predict(X)\n",
        "\n",
        "plt.scatter(X, y, color = 'magenta')\n",
        "plt.plot(X, svr_result+5, 'g--', color = 'green',linewidth=1)\n",
        "plt.plot(X, svr_result,'k-', color = 'green',linewidth=2)\n",
        "plt.plot(X, svr_result-5,'g--', color = 'green',linewidth=1)\n",
        "plt.plot(X, y_reg,'r--', color = 'red',linewidth=2)\n",
        "plt.title('Education vs Salary (Support Vector Regression Model)')\n",
        "plt.xlabel('Education')\n",
        "plt.ylabel('Salary')\n",
        "plt.show()\n",
        "\n"
      ],
      "metadata": {
        "colab": {
          "base_uri": "https://localhost:8080/",
          "height": 296
        },
        "id": "hvWDK3eZcU2l",
        "outputId": "fb4f922b-fce8-4699-916d-3135bb0e0474"
      },
      "execution_count": 35,
      "outputs": [
        {
          "output_type": "display_data",
          "data": {
            "image/png": "[encoded data removed]",
            "text/plain": [
              "<Figure size 432x288 with 1 Axes>"
            ]
          },
          "metadata": {
            "needs_background": "light"
          }
        }
      ]
    },
    {
      "cell_type": "markdown",
      "source": [
        "As the dataset is small we could see regression line is matching the SVM line"
      ],
      "metadata": {
        "id": "gPpyADk0SydV"
      }
    },
    {
      "cell_type": "markdown",
      "source": [
        "What is Weighted Nearest Neighbor Model? Explain briefly."
      ],
      "metadata": {
        "id": "N96_XTeFBWuH"
      }
    },
    {
      "cell_type": "markdown",
      "source": [
        "Weighted kNN is a modified version of k nearest neighbors. One of the many issues that affect the performance of the kNN algorithm is the choice of the hyperparameter k. If k is too small, the algorithm would be more sensitive to outliers. If k is too large, then the neighborhood may include too many points from other classes.\n",
        "Another issue is the approach to combining the class labels. The simplest method is to take the majority vote, but this can be a problem if the nearest neighbors vary widely in their distance and the closest neighbors more reliably indicate the class of the object.\n",
        "\n",
        "Let's consider the below training set\n",
        "\n",
        "![ex1.PNG](data:image/png;base64,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)\n",
        "\n",
        "The red labels indicate the class 0 points and the green labels indicate class 1 points.\n",
        "Let's consider the white point as the query point( the point whose class label has to be predicted)\n",
        "\n",
        "![ex2.PNG](data:image/png;base64,iVBORw0KGgoAAAANSUhEUgAAAk0AAAF/CAYAAABUoP1jAAAAAXNSR0IArs4c6QAAAARnQU1BAACxjwv8YQUAAAAJcEhZcwAAFiUAABYlAUlSJPAAAFzCSURBVHhe7Z2HexXV+rb9Xz6T7L5TAAXFimI70nuXjvRehNADhCY1FEG6dBAEFKQjvUOoofeOR0/xnOPzrXfB8ONwBiST/U4Mee7req4kOyt7J29m1rr3zJo1LyGB/OMf/8DPP/9s8+uvv+Lf//73w++QRMNa6/Pbb789qvFf//pX/Otf/3r4HZIopKa//PLLozr/85//fPgdkij+85//2D7CqbH0HSSx/P777/j73//+qMZ/+9vfbN1J4insWlOaiiistT6UJn0oTfpQmvShNPkHpYl4grXWh9KkD6VJH0qTPpQm/6A0EU+w1vpQmvShNOlDadKH0uQflCbiCdZaH0qTPpQmfShN+lCa/IPSRDzBWutDadKH0qQPpUkfSpN/UJqIJ1hrfShN+vzZpEn2pRs3buDy5cu4ePEirl27hnv37hXp/z2lSR9Kk39QmognWGt9KE36/BmkSTph6XTld7liZGn/vn3YumULNq5fj107d+L0qVP4xfz/ZR+TtpKiBKVJH0qTf1CaiCdYa30oTfoUtjRJ53vp0iVs27QJMyZMwJjMTAxt2xajWrXCly1aILt1a4zs1g05w4Zh1dKlOHXyJO7evfvwp4sGlCZ9KE3+QWkinmCt9aE06VNY0iQdr7yWHFnauG4dJgwahFbvvYfm6elok5KCXoEA+pt0NJ+3jETQ9NVXMaBlSyydPx+5R47YTruo7HOUJn0oTf5BaSKeYK31oTTpU1jSJP9bmbO0bvVq9GvbFn3Ll8f0tDSsjsWw2+RgPI7DJnvN5xtNFpiMKFsWbapUwaycHJw4ccLOdSoKUJr0oTT5B6WJeIK11ofSpE9hSZO85pYNGzBxwAB0fuMNjEpJwd5QCNeNHP2eng5kZNjI539NTcXpcBjzAwF8npSEIc2aYcn8+Tibl/fw2f7cUJr0oTT5B6WJeIK11ofSpE9hSdOtGzeQM2IEun/8MWYYKdpphOmu+fjbY8Lk5N/msb+lpeFENIpvjVwNe+stdG7aFDu3bLEd+J8dSpM+lCb/KHRpkoEhUZGB5fbt2zZy6Fr+MLd2TMHDWutHBhqnxnfu3LE7p1s7xnukpjKx2qmzCJRbu0Tm/v37OHbkCPq3a4cORobWRSK4ZITo7+Zzkaan5VY8juNGrr40H+uXK4cV8+fb3/nPvl2IJEkf4dRY+g63doz3iOzLAO7UWLYxqbtbW6ZgKexavyQ7UKJy69YtXLlyxeb69et2R3VrxxQ8rLV+ZId0anz16lUrTm7tGO8RYZK1kJw6S83d2iUyp0+ftnOZutWujS4pKdhnhOmeEaGfU1Ptqbin5b7JXdNuSjCIWhkZmD56NA4fPmz3P7fX+bNE+gb5HZ0a37x507Ud4z0yiEtdnRrLWl8ymLu1ZQqWwq71S/ILJCryh8iicBLpCKVDdGvHFDystX5kAHdqLDunSJNbO8Z7pKYipE6d5c2AW7tE5ujRo/h20SL0rl4d/Yw0HTbSJML0vJltpKlpWhqmZGVh586ddttwe50/S0SapI9waix9h1s7xntk0HYWRZU4b2Td2jIFS2HXmkeaimhYa/3wSJN+CuNI08GDB7F4zhwMqFoV2YEAjsVirkeWnpaFoRDaizT174/NmzfbdZ7cXufPEukbeKRJNzKYFubRj+KUwq415zQV0bDW+uGcJv0UxpymM2fO4IeVK5FZqxb6p6TgZDyO3/5gPpOTf5p288JhNM3IwIyRI3Ho0CG7bbi9zp8lnNOkH85p8i+FPqfp4YTwhCC/uPwxEl7RpQtrrY/sIE6NZaDh1XOJpzCunpN3pru2bUPmZ5+hRyhk12P6h5Gh3x+7Ys4t/zLS9EtqKr6ORtGgdGksmDoVFy5csOL3Z4ZXz+nDq+f8g0sOEE+w1vpQmvQpDGmSfedcXh4Gd+6MjiVKYK2RILl6TpYWcJMlJ3eMXB2Tq+eMYDX64AP8sGxZkdj3KE36UJr8g9JEPMFa60Np0qcwpEm4c+sWZuTkILNGDUw0QrQuGMQ1I0WyHtOTsiSn5eTKuf2RCGYlJ2OoEaZ+Rrj27txpO/A/O5QmfShN/kFpIp5grfWhNOlTWNIkHe2eXbswbfRotHr7bfQ3MrQtEMCVaPR/VgS/b2QqNxTC9JQU1JEVwdu2xdo1a3Dp4sWHz/bnhtKkD6XJPyhNxBOstT6UJn0KS5rkdeWqvW2bNmFUZiYGVq2KcaVKYY4RpFVGnNabbIrF8IP5uNh8nJKaiuzy5fGF3EJlzhycO3fObhNFAUqTPpQm/6A0EU+w1vpQmvQpLGkSpPOVK/f27d2LKWPGoP6HH6J6ejpqJCWhRXIy2qWkoIH5WD0SQbXXXkO/Tp2wft06nD9/3v5sUYHSpA+lyT8oTcQTrLU+lCZ9ClOaBHk9WcPo4L59WLFwIWaPH4+c/v0xuXdvTO7ZE5P69sX0ESOw6OuvsXXDBnu1nPyeRQlKkz6UJv+gNBFPsNb6UJr0KWxpehzpjGXR2GPHjmHPnj3YsWOHXYdJREn2N/l+UYTSpA+lyT8oTcQTrLU+lCZ9/kzSJMh+JQtBijzJek6ycKX8fkV5/6I06UNp8g9KE/EEa60PpUmfP5s0vYhQmvShNPkHpYl4grXWh9KkD6VJH0qTPpQm/6A0EU+w1vpQmvShNOlDadKH0uQflCbiCdZaH0qTPpQmfShN+lCa/IPSRDzBWutDadKH0qQPpUkfSpN/UJqIJ1hrfShN+lCa9KE06UNp8g9KE/EEa60PpUkfSpM+lCZ9KE3+QWkinmCt9aE06UNp0ofSpA+lyT8oTcQTrLU+lCZ9KE36UJr0oTT5B6WJeIK11ofSpA+lSR9Kkz6UJv+gNBFPsNb6UJr0oTTpQ2nSh9LkH5Qm4gnWWh9Kkz6UJn0oTfpQmvyD0kQ8wVrrQ2nSh9KkD6VJH0qTf1CaiCdYa30oTfpQmvShNOlDafIPShPxBGutD6VJH0qTPpQmfShN/kFpIp5grfWhNOlDadKH0qQPpck/KE3EE6y1PpQmfShN+lCa9KE0+QeliXiCtdaH0qQPpUkfSpM+lCb/oDQRT7DW+lCa9KE06UNp0ofS5B+UJuIJ1lofSpM+lCZ9KE36UJr8g9JEPMFa60Np0ofSpA+lSR9Kk39QmognWGt9KE36UJr0oTTpQ2nyD0oT8QRrrQ+lSZ9ESZPsA9euXcP58+eRl5eHixcv4ubNm5QwA6VJH0qTf1CaiCdYa30oTfp4lSbpOOVn/2a2/bu3byPv5Els37wZ61evxuply7Dxhx+wd+dOXDx3Dvfv3rWdbHHdRyhN+lCa/IPSRDzBWutDadLHqzRJOzmatHXjRkweNQpDOnVCZqNGGFSvHrLr1MEA87Ffs2YY2r075kydiv179+L69esPf7p4QWnSh9LkH5Qm4gnWWh9Kkz5epEk6zKtXrmD9mjXIGTQIXT/+GB0yMtAjGMQgk1Em/QIBdA2H0a5kSWTWro0Z48Zh59atz/0aLxKUJn0oTf5BaSKeYK31oTTpk19pkg7z0qVL2LhuHfq1a4cub72FGWlpWB+N4lg8jrzUVJwzOWU+PxCLYY15fLwRp1blymHMgAE4cOAAbty48fDZigeUJn0oTf5BaSKeYK31oTTpk19pku1826ZNmDh4MPq8/z5GpKRgRyiEa0aQ/pOeDmRkPMrfjUxdNNL0fTCIPsnJGFSjBr6aMAGHjTgVJyhN+lCa/IPSRDzBWutDadInv9L0m/n+9PHj8bkRpulGinYbYbqbmop/PSFMkt9N5PHLRqg2BwIY88oraPDJJ1i9dKnteIsLlCZ9KE3+UejSJJ1UoiJ/wK1bt2zu3r1r/xi3dkzBw1rrRwZzp8a3b9+2A49bO8Z7pKZ37tx5VGeRU7d2EtnOz587hxG9eqGpEaYV0ag9kvSLkaZ/Gjl6Wu7G4zgTiWCakadK5utZRrquXr36zNd6kSIDjNTOqbH0HW7tGO8REb1///6jGt+7d8/W3a0tU7AUdq1fcmwtEZF1US5fvmwja6bIjurWjil4WGv9iCg5Nb5y5Yod3N3aMd4jNRWBcersDOpuOXPmDLZs3oy+zZqhRVISNhsRum+E6GcjTX8UabcgFEKF//f/MKZPH+zdu9fOjXJ7nRctMqhIH+HUWPoOt3aM98ggLnPlnBrLlZpSd7e2TMFS2LWmNBXRsNb6oTTpJz/SdOLECXy/Zg0Gf/YZuiQnY7uRJjdBelqWh8No8PLLGNujB7Zs2WIXwnR7nRctlCb9UJr8S6FLk5yCSFRkkJEOUCJ/lPxxbu2Ygoe11o8zoEscMXVrx3iPdHbS6Tl1lpq7tZMcP34cq1auxNBGjdA7JQW7H56ae96sMtIkR6jGdeuGDRs2WGlye50XLc4g49RYxNStHeM9cqpX6urU2BFTt7ZMwVLYtX5JJmImKvKE0ulJZEeVc49u7ZiCh7XWj8wTc2oswiTnzd3aMd4jNRVxcuosc5zc2knkdNpPW7diSIsW6JicjD2xmJ3o/Tz5LS0NKyMR1DHSlNO3L/bv3287W7fXedEi8zCkj3BqLH2HWzvGe+SiERnMnRrLIC51d2vLFCyFXWtePVdEYa314dVz+khNZRB36iyd39MQcT154gSGd+6MVuEwNhtpkiNI/zZS9OSVc4/nN/N9OT230LSvasTp61GjcOHCBfu6xQFePacPr57zDy45QDzBWutDadInP9IkbX++fx/js7LQ9JVXsMhIUJ6RIFmPyU2WnNwzwnQsFMJk065KmTJYMmuW7XSLyz5DadKH0uQflCbiCdZaH0qTPvmRJkHaf7twob2v3KjXX8eiQACno1F7JOn3J444yWk5WW5gvxxdSklBdvny6NOhA7Zt3Gg73uICpUkfSpN/UJqIJ1hrfShN+uRXmqRzlAnhi+fORZuKFdE2KQnfGSE6a8To8dN0IlBy6k6OMM0y369r2vVp3hw/rluHC+fPP3y24gGlSR9Kk39QmognWGt9KE365FeapMOUyZ9HDh7E9HHjkPXZZxj+xhvIMYI0z4jTMpPV0SiWmI+zzMdxaWkY9sEHGNy6NRbPnv1omYHiBKVJH0qTf1CaiCdYa30oTfrkV5ocpNOUI04L585FuwYNUPett1DHiFMLk84mTeJx1ClRAnXLlUNmx474Yc0anDt37uFPFy8oTfpQmvyD0kQ8wVrrQ2nSx6s0yfYuV9PlnTqFbevXY8W8eZg9dixmZmdjxuDBmDliBL7JycHqxYux+6efcPHCBfv8xRFKkz6UJv+gNBFPsNb6UJr08SpNjyOdqKz1lJeXh0OHDmH37t04evSoXVZA9g35fnGG0qQPpck/KE3EE6y1PpQmfRIhTYL8r+R5nEUc5aN0ptwvKE1+QGnyD0oT8QRrrQ+lSZ9ESRN5OpQmfShN/kFpIp5grfWhNOlDadKH0qQPpck/KE3EE6y1PpQmfShN+lCa9KE0+QeliXiCtdaH0qQPpUkfSpM+lCb/oDQRT7DW+lCa9KE06UNp0ofS5B+UJuIJ1lofSpM+lCZ9KE36UJr8g9JEPMFa60Np0ofSpA+lSR9Kk39QmognWGt9KE36UJr0oTTpQ2nyD0oT8QRrrQ+lSR9Kkz6UJn0oTf5BaSKeYK31oTTpQ2nSh9KkD6XJPyhNxBOstT6UJn0oTfpQmvShNPkHpYl4grXWh9KkD6VJH0qTPpQm/6A0EU+w1vpQmvShNOlDadKH0uQflCbiCdZaH0qTPpQmfShN+lCa/IPSRDzBWutDadKH0qQPpUkfSpN/UJqIJ1hrfShN+lCa9KE06UNp8g9KE/EEa60PpUkfSpM+lCZ9KE3+QWkinmCt9aE06UNp0ofSpA+lyT8oTcQTrLU+lCZ9KE36UJr0oTT5B6WJeIK11ofSpA+lSR9Kkz6UJv+gNBFPsNb6UJr0oTTpQ2nSh9LkH5Qm4gnWWh9K09ORjks6KtnupC7yUSKP5wdKkz6UJn0oTf5BaSKeYK31oTQ9HZGb69ev4+zZszh+/DhOnz6Nixcv2jrlR5woTfpQmvShNPkHpYl4grXWh9L034jQSC2uXrqE44cPY8u6dVizZAmWz5mD7xYswLoVK3Bg1y5cMCJ15/Zt27H9UWdGadKH0qQPpck/KE3EE6y1PpSm/+batWvYY6Toq7Fj0btVK3SrVQu9KlXCwAoV0KdiRXSuXBm9mjRBdp8++GHVKnsUSjq3Z0Fp0ofSpA+lyT8oTcQTrLU+lKYHyLZ2584dbFm/HpOzszGwZk30LFkSAyIRjAwGMTkUwhiTwYEAeqeloVe5chjTvTu+XbgQZ/PyrBRJR+cGpUkfSpM+lCb/oDQRT7DW+lCaHnDjxg3s27cPIzMz0bB0aYxPTcUmI0yn4nFcM5J00+S6yWXz+O5oFAtMOpcqhS4NG2L1t9/i3LlzT90+KU36UJr0oTT5B6WJeIK11ofS9IDD+/dj4qhRyKpWDYOSk7EuFMJlI0Z/N6KEjIxH+T09HbeMSB0MhzE5JQX933oLo3v0wI+rV+MfppNzg9KkD6VJH0qTf1CaiCdYa30oTQ86qDXLlqHW++9jtBGjXYEAbhgx+v0xWfovcTL5m5GpXCNW38RiaFm2LMYPHYq/mhq6QWnSh9KkD6XJPwpdmmQHSlTu37+Pmzdv2sgcCNlR3doxBQ9rrR8RJafGt27dsoO7W7sXNbKNXbp0CXNyclC1RAlMiUZxLhLBXSNN/zBi9LT8YnLFtP3etG1l2mZ16oTjubm2hk++htT09u3bj+rsDOpM4iKDivQRTo3l/+rWjvEeGcTv3bv3qMZ37961dXdryxQshV3rlxxbS0TkD7h8+bKNXGkjf4xbO6bgYa31I4O5U+MrV67Ygcet3Ysa+bv37NmDCQMGoFoggLmhEO4bCfo5NfUPI+12GGlqm5SE3o0aYcO6dXYtpydfQ2p69erVR3UWsXqyDVOwyAAjfYRTY+k73Nox3iMiKnP/nBrLGmZSd7e2TMFS2LWmNBXRsNb6Ke7SdOHCBWzZsgUTevdGUyNNS4w0uQnS07InGkWv5GQMqFcP3y1fjtzc3P95DUqTfihN+qE0+ZdClyY5rZOoSAcoO6fE2THd2jEFD2utHxFRp8bOjunW7kWNnJoTacox0tQyGMS34TB+NTL0a1rac+WAkabMlBQMrl/fSpOsHP7kazgdoFNnqfmTbZiCRfoG6SOcGsubAbd2jPc4p5mdGov8y+l9t7ZMwVLYtX5JJhAnKvKE0uk5Rz1kUqdbO6bgYa31I+fOnRqLMMn5bLd2L2pEzA8fPoypWVmoa6RpqZGmf6Wn49/PmYOxGLoaaRrYpAm2bd5sJezJ15Caijg5dZa5CU+2YQoW54IGp8bSd7i1Y7zHuaDBqbEM4lJ3t7ZMweJWa3nMra1GePVcEYW11qe4Xz0nAiOHv+dNnIgaRoJmGwm6/XAS+JNXzT0eEab7qanYatq3NRnasSNO5OZa8XwSXj2nD6+e04dXz/kHlxwgnmCt9Snu0iQdkdTgu0WLUOPttzHWyNLBYNCKk5ssOfmHkabT4TAWR6NoWbo0xgwciLt37rhuo5QmfShN+lCa/IPSRDzBWutT3KXJYe/OnRiWmYmhn36KccnJ+MkI0U0jTv984oiTLG55LzUVJyIRzA0EMOz11zGkTRusXLIEfzcdmxuUJn0oTfpQmvyD0kQ8wVrrQ2l6gFzdtn37dvTv0AFVUlIwyeRAKIQ7RpzsHCcjTHJK7jeTU0aYVprvtzFpUbEils6fj1OnTj21dpQmfShN+lCa/IPSRDzBWutDaXqAbF8iTrIy+IgePTCkQgUMNaI0IRrFjHAYC40ozTEfp5iMTE3FoDffRHarVpgzZQpyjxyxc5me1qlRmvShNOlDafIPShPxBGutD6Xpv7FLEGzejBH9+6NV1apoVq4c2pQtix6vv44O5mPTN95Ai08/RXcjTEsXLMCJEydsh/YsKE36UJr0oTT5B6WJeIK11ofS9N9I53Tj+nUcO3wYW9etw4p587Bw8mTMGzMG8ydOxOLp07H+u++wf9cuXDx/3tbtj7ZLSpM+lCZ9KE3+QWkinmCt9aE0PR3ptGSVdDmadPDgQbva99mzZ+2aS9KpPS+UJn0oTfpQmvyD0kQ8wVrrQ2l6OtJJieBIhyXSI9ugdGT53Q4pTfpQmvShNPkHpYl4grXWh9KkD6VJH0qTPpQm/6A0EU+w1vpQmvShNOlDadKH0uQflCbiCdZaH0qTPpQmfShN+lCa/IPSRDzBWutDadKH0qQPpUkfSpN/UJqIJ1hrfShN+lCa9KE06UNp8g9KE/EEa60PpUkfSpM+lCZ9KE3+QWkinmCt9aE06UNp0ofSpA+lyT8oTcQTrLU+lCZ9KE36UJr0oTT5B6WJeIK11ofSpA+lSR9Kkz6UJv+gNBFPsNb6UJr0oTTpQ2nSh9LkH5Qm4gnWWh9Kkz6UJn0oTfpQmvyD0kQ8wVrrQ2nSh9KkD6VJH0qTf1CaiCdYa30oTfpQmvShNOlDafIPShPxBGutD6VJH0qTPpQmfShN/kFpIp5grfWhNOlDadKH0qQPpck/KE3EE6y1PpQmfShN+lCa9KE0+QeliXiCtdaH0qQPpUkfSpM+lCb/oDQRT7DW+lCa9KE06UNp0ofS5B+UJuIJ1lofSpM+lCZ9KE36UJr8g9JEPMFa60Np0ofSpA+lSR9Kk39QmognWGt9KE36UJr0oTTpQ2nyD0oT8QRrrQ+lSR9Kkz6UJn0oTf5BaSKeYK31oTTpQ2nSh9KkD6XJPyhNxBOstT6JkiYRAfn5e/fu4e7du/b5ZKdnp0pp8gNKkz6UJv+gNBFPsNb6JEKaZAe/desWTpw4gQMHDmDv3r3Izc3F5cuX7fMXdyhN+lCa9KE0+QeliXiCtdbHqzTJwC+idPzoUWxcswbLZs3CzNGjMXPoUMzIysLMESOwYOpU/LB8OQ7s2YNr167Z/2FxhNKkD6VJH0qTf1CaiCdYa328SpOchjt48CCmTZyIxpUqoe7rr6NePI7WqanoYNLIfF7nlVdQr3x5ZPfti+0//YQrV648/OniBaVJH0qTPpQm/6A0EU+w1vrkV5rk+zdu3MDOrVsxLisLQ+rUwQgjR1OMJC2IRLDC5LtoFIvCYXxtPn6Zno6hFSpgUKdOWLNsmT1lJ//L4gSlSR9Kkz6UJv+gNBFPsNb65Fea5P9w8MABTB83Dg3feAO9k5OxJRDAZSNIvxtBQkaGjXx+x4jUwWAQ40ybT19+Gdndu2Obka3r168/fLbiAaVJH0qTPpQm/6A0EU+w1vrkV5pu3biBWZMnY2C9ehhj5GiVkaLLsRh+SUt7JExO/mEeu2XE6adwGBOMOMkRp+H9+uGIka7iBKVJH0qTPpQm/yh0aZIXS1Tkl5f5HBL5Y2TQcWvHFDystX5kx3RqfP/+fTvYuLUTYZXv5Z04gX7t26NTyZL43sjQuUgEv6Wn4z/PyHUjVfuNXA0znzcx4rRh9Wr7vxWZcHutFy0iSVJbp85Sc7d2jPdI3yDS79RYBMqtHeM90geI/Ds1ls+Lyz7sdwq71i/JDpSo3Llzx14JJLl586YdzN3aMQXPk7WWTtGtHeM9skPK6TKpscxVksHdrZ3k4sWL2Pzjj+hWty66G2HaY4TplhGiX9PSnpm78TiuRKMYa36mwRtvYMG0acjLy7PrObm9zosWqanU1tmWi8vf7Wekb5CrOZ0aS9/h1o7xHhm4b9++/ajGUm95zK0tU7A8WWv53M9av+Qc4kpEZPCWyawS+WOchfyYxIe11o/sjE6N5eo2GWzc2snAf/ToUXy7YAG6Va6MfikpOGZE6OfU1OfKfSNOU4NBNC5VCtNHjrRrOcn/1O21XrRITa9evfqozjLYuLVjvEfkX7Ynp8bOG1omcXHk36mxvNmSuru1ZQqWwq41pamIhrXWT36kaf/+/Vg4cyYyK1TAiEAAJ2MxV0F6WuaEQmhfsiS+ysrCtm3b7Ou5vdaLFkqTfihN+qE0+ZdClyaZQ5CoOH+MRAYcOZTl1o4peFhr/cgOIgOM1FgGcznN4dZO5iAdO3YMKxYsQO/KlTHUSFNePI6/p6U9d2YbaWr9yiuYOXIk9u3bZ1/P7bVetMhhdflbnW1Zau7WjvEe6RtETp0aywDj1o4pWOSNq1Nj+Vz6Bbd2TMFTmLVWu3pOOkNe0aUHr57TRyYpOzUWYZIJtW7I1RyXLl3ChjVr0L1GDfQz0nQuNfW/lhl4Wn6XmHZfh8P4rHRpzJ80yc5pkk6gOMCr5/SRvkH6CKfG0vGTxMKr5/yDSw4QT7DW+jzvkgOyE8v3j+zfj8wWLdDdCNOOaNQuKfCfJyTpycipufORCMaYj00++ADfL1li3zk97bVeNChN+siA8rg0Sd9BEgulyT8oTcQTrLU+zytNguzIVy9dwoi+fdH1nXewwEjToXAYf0tLw79djjiJTMlyBGdMux9SUpD1+uvo0KgRdm3dap+ruEBp0ofSpA+lyT8oTcQTrLU++ZEm4f69e/jhu+8wpnt39ChdGpONDB0x4iRHnJ48VffX1FScjUSwOBBAx6QkDGvSBPNnzcLZvLyHz1Y8oDTpQ2nSh9LkH5Qm4gnWWp/8SpP8T86cOYMVixahc4MG6FO2LObHYthicsKIU56IkslJ8/lu89iKaBQjXn0VjcqXx/SxY5Gbm2sn6RYnKE36UJr0oTT5B6WJeIK11ie/0iQ7ruzAZ/Ly8N3SpfiyRw+0f/NNdExLQ89AAFnBIIab9DGfdzHC1PaVVzC4WTN88/XXOLhvn5WHP3qNFw1Kkz6UJn0oTf5BaSKeYK31ya80Ocj/4+zZs1i7ahW+HDQIg9u3R2bDhhhcty6G1qmD/g0aYECrVsj+4gssnjvXLlcgy0YURyhN+lCa9KE0+QeliXiCtdbHqzTJDiw/+4v5mds3b+JEbi62bdyIdUaivv/2W3u7lUP79uHa5cv4+f59KwrF9f9HadKH0qQPpck/KE3EE6y1Pl6l6XFkB5eflVWvz507Z+c8yZpOstigl+d70aA06UNp0ofS5B+UJuIJ1lqfREgTeTaUJn0oTfpQmvxDai31lbtiSJzxTx73A0pTEYW11ofSpA+lSR9Kkz6UJv+QsU6O3Mtc0IMHD9qbpV+4cMFeeeyHOFGaiiistT6UJn0oTfpQmvShNOki45vUVy6YOXv+LLZs24LFyxZj9jez8c3ib7Dqh1XYs28PLl66iDt379htXGtMpDQVUVhrfShN+lCa9KE06UNp0kVuLXX8+HHMnT8XXXt3xWdtPkOVJlVQqUUlVGlZBTVa1kCzTs3QPbO7lalTp07Z/4MGlKYiyotYa/kbnHPVMlFaPsqAKvJSGFCa9KE06UNp0ofSpIP0D1LPffv3YdrMaWjRowVeqfYKopWiSK6cjJRaKQjUCiBQLYB41ThKVyuNdn3a2SNQR3KP2H470WMjpamI8qLVWjod+TvOnz+PI0eOYPfu3Th06BBOnz7t27nqJ6E06UNp0ofSpA+lSQeppcxdmjh1IspXLY9SDUoh3D6MSM8Iov2iiA2IITYohnhWHLHeMYTbhfFKvVdQqX4lzJg7AydPnrTbfiKhNBVRXpRai4xcvHABu3/6CasXL8Y3OTmYOXw4ZgwejJnDhmHWmDH4dt48bF2/HnmnTtnDtH79rZQmfShN+lCa9KE06XD+wnnMnjcbzXs0R6hSCIGWAUQGRRAbbkRpdBypX6YibWwa0iemIz4qjsjACALNAkivno52me2waMkiXL9x/eGzJQZKUxHlRam1rF20ds0aZHbsiHrlyqFuyZJoGo+jc2oqWpqPdUzqvvkm2jZogAVz5th3HdI5+QGlSR9Kkz6UJn0oTYlHaiqTu5u2aYoy9cog0CGA6OCoFSQRJREmK03j0pCRk2Ej34sMiNgjTmXrlEXHnh1x8tTJhJ6poDQVUYp6reX3llNxS2bPxuDWrTHsgw8wLi0Ns6JRLI1EsNp8XG4+zguHkWMEavgbbyDrs8/sjW0PHzxor6JI5I7gBqVJH0qTPpQmfShNiUX6BTmrsGrtKlSsXxGp9VIRHRi1kiRyJKL0P9I06UHkiFM007StlYp6reph6/atdn5sov4flKYiSlGvtayr8eO6dejTvDnqJiVhZkoKjoVC+MUI0u/p6UBGhs2/zednjTytMt9vZ9q1qVgRi+bMwfFjx9Q7JUqTPpQmfShN+lCaEotso3L3hJnfzMQ71d9BqFHogRyJGP2BNKXnpCNtRBqCtYP4tOGnWLpyqR1vEtV/U5qKKEW51tLB/LRxI3p36IDs8uXxtRGi/UaM7sbj+O0xYZKIQP1sROp0NIrFgQBGvfYa+jVrhm8XLrRSowmlSR9Kkz6UJn0oTYlF6pebm4vJsybj7bpvI9w8jPTx6c8lTZK0UWkINQzhkyafYO6iuXZCOKWpmFNUay2/p3QuclqucpkymGSEKDcUwj3z8XFZejJ/T0tDnhGrxbEYmr36KsZnZeH+vXuqIkNp0ofSpA+lSR9KU2KR+h0+fBgTZ0zE2/WNNLXMvzSFG4fxSbNPMGvBLLvGU6LeZFOaiihFtdYyQMqh0hmjR6OKkaCFRoLuG2F68gjTk5HTdHLqbotp/7n5ueGdO+PkiRN2OQItKE36UJr0oTTpQ2lKLFJLWaBy+tzpeLvm2wg1DiF9XD6kaWQaQnVD+PSzT7Fo+SKcPXs2Yf03pamIUlRrLZP7ZP2lKQMGoF5ysp3w/fgcpmdF2h2Ix9ElEMCwli2xc/t2ew8iLShN+lCa9KE06UNpSizS9167dg1LVi7BR7U/QrRBFPFh8UeC9CxpkivrZO2maK0oajSrgXUb1+HmzZsJ+39QmoooRbXWsvHu2LEDU3v3RtuUFGww0uQmSE/LUSNNA4JBjGraFOvXrbNHrbSgNOlDadKH0qQPpSmxSD2l/5Ur32o3qY2MOhkI9ggilh37Q2mKDo0i3CWMkjVLokWHFjh09JB9LnnOREBpKqIU1VrLUgF79+7F1L590TQ5GWvzKU2HjTR9EQhgePPm2Lp5My5duvTwmRMPpUkfSpM+lCZ9KE06nDh1AiPGjECNdjXs6bZQp5AVp/jIBwtbWmmSxS3lirkxafZ7wfZBxBvEUa9jPbuS+MXLFx8+W2KgNBVRimqtZb0MWaBy8uDBqPryy1gRieTr9NzeWMweocpq3Rr7jXzduHHj4TMnHkqTPpQmfShN+lCadJB7kO7ZswcDhg1A+PUwkmsmI9AjgEhW5H9WBI8OiyKlewqSqiShVPlSGDV+FA4cOGD77kRCaSqiFNVay+9969YtfDNpEiobCZoZj+NSNIpf09JcRcmJTBS/boRpjUlL8/no3r1x+dIl+7drQWnSh9KkD6VJH0qTDrKtytymH378AZmDM1G9XXVk1M9AtGEUwc+CCDUPIdQyZJckiDeOo0T9EqjTsQ6yRmZh87bN9k219OOJhNJURCnKtZYOZs2yZaj/ySf48pVXsCkQwGUjQ/8yMvS7izDJlXN3U1OxOxTC10auWpcvj+njx6sPsJQmfShN+lCa9KE06SLyI0echn85HBVrV8Sbn76JEh+WQImKJVCyUkmU+qQU3q38LirXqYzxk8bbI0xylEoDSlMRpajX+sjBg/hqwgQMqlEDfZKTsSYYxMVo1K7H9Lgw/ccI0zUjVDuNMI1MSUGf997DxEGDsG3TJvxbWWIoTfpQmvShNOlDadJFaitnKA4fPWyPOs2YOwMjJozA4C8HY9i4YRg/bTy+WfINftz4I44dP2bnzmr1JZSmIkpRr7VcRXfQiNOYgQPRqlw5jC9ZEmuMNMmSAqdSU3HW5LTJMfO1XGE3w8hU17feQr+2bbFx3To7AVw6Kk0oTfpQmvShNOlDafIP6TPkqul9+/Zh27Zt2LVrF06cOGHHFO0xQaA0FVGKeq1lcJTffafZ6GeMG4e+deqgnRGnruEw+gUCGBkMYpBJd5MOGRno+vHHyBk0CD+uWYOrV67YDkobSpM+lCZ9KE36UJr8Q+oqFxTJXKcrZiyQU3fSP/vVd1CaiigvSq2vX79ur4KbM3UqhnXvbu8rN6B+fQwzEjWoXj1kNmqErE6dMGnkSGzduBEXL170beegNOlDadKH0qSP1Fjm0MgREFl9WvopOUUk8kQSS2ELKqWpiPKi1Fp+73+YHeD+3bu4eP489u3ahY1r12L1smVYv2YNdmzZgryTJ3FXOiDzd8og68chWIHSpA+lSR9Kkz6yHctd+WXh3g0bNmCL6bfk3mlyNMSv/qq4QGkinngRay0Dpkz2k3dpeXl5OG8kSjod+fsKA0qTPpQmfShNOsh2e/nyZbtq9axvZiF7bDZ6DuqJzgM6o9vgbug7vC++nPwl5i6Yix27dthbPvHIU8GhNBFPSK3lvK5Edl4ZfPiOJrFQmvShNOlDaUo80tfKfJqtW7cic1Amyn5YFtG3oni57MtIej/J5uU3X0bqu6l446M3kDU8yx6Fkvk37KcLBqWJ5BvZaGTnO378uL35rRwGPnfunD2nzponDkqTPpQmfShNiUUGaTkavnTFUrTp2gaftPoEaU3SEG0RRah1COEOYUQ6RhDpEEHs85j9XoXPK6BLny5Y/cNqe3SK/wPvUJrIcyEbhdT33t27uHLpEvaYdy3fLVmCJXPmYKnJ2pUrsdc8duHsWdy5dctuVBzkCwalSR9Kkz6UpsRy4+YNbNi4Ab0G9ULk3QhS6qUg2DtobxT75K09YsNjCH4RRHLtZJT4uAQGjhiILdu24K7px4k3KE3kuZBB+/Tp0/hu6VIM6dULXzRtis5Vq6J3pUroW7kyelWvjj6NG2NQly5YOGuWvb+b1oqoxQVKkz6UJn0oTYkl93gu+g7ui7+0/AuCjYMI9wgjPsrI0ugHN5D9r5vIjkuz3wt1CyHaJIrKrSpj2OhhOHf+3MNnI/ml0KVJxCZRkR1TDFoic22kA3Rrxzx/pIb2JrdHj2Lx3LkY3qED2pcpg06xGLonJ2OgyZCUFPQ16R6Non2pUhhshGrWlCnYu2uX/V/IBub23MyzIzujsz3fu3ePdVSIPXpqauvUWWru1o7xHulDZHBxauzMgXRryzw98iZK3jxt2LwBNRrVQHrtdIR6hRAbFkP6hHSkjkm1gmQFyoiTPCZHm+zNZIdGEe4WRkaNDDRu0xi79u7i/8FjpGbyf3C2Z/lc/jdubTXykvzjEhVZl0KuEJDInBtnkjLjPXbp+MOHMXf6dLSoUgU9jRTNC4Xwg8kuk73hMA5EIjhshOkn83GJeWxgRgbqvPMOckaMwN69e+3/w+25mWdHdki5ek/qJ+tJyeDu1o7xHqmp1NbpN+ToqFs7xntEmGS1ZKfG0k+7tWOeHekPTp06hdnzZ+O9au8hVDuEaFb0gSSJMI2IW4GyGRF7cMRpTJqNtIn2jyJULYSK9Sva+VCyRAHHyPxHJEnGRWd7lm1bHnNrq5GXnENciYj88jLJTSKDjWxkbu2Y58/5c+ewYM4cZLVujc7p6chJTsa+YBCnjCxdMpJ02ciS3JvtbjyOK+bzI0aaZps27ZOSMKBBA0zPycHRQ4dcn5t5dmRwcbZnuVJGBnS3doz3SE2l43PqLJ2hWzvGe0RMpT92aiz9tFs75tmRuu3fvx8TvpqAN6u9iUD9AOLDHxxVklNzMn9JjihJYtlGmh47XSeJZcUQqBXAB/U+sPdOk4t42KfkPyKaclDG2Z6dN7RubTVCafoTRzaO3MOH0bt9e7QvXRrzjCztNbltBOmGESURpsel6X5qqv14xAjVCiNNvUuVQqs6dbD5xx/tc7m9BvP0UJr0Q2nSD6UpMZHBefv27RiVMwpv1HkDwSZBe3TpeaUpPjSOQIMAyjcqj5zpOdi9e7ftY9xei3l6Cl2aZE5BoiJPKDukRDpDmZ/g1o7548j8Gdkwdm7Zgm4NGqCn3Ok/ErGC9I+0NPxsBOmm+Vxyx4jS38xj8rjklvn6pGk73Hyv6YcfYtWiRbbTlEOLbq/FuMc5DCzbs3NKw60d4z0yD1Jq6/QbUnO3doz3OHPznBrLoOPWjnl2pG4yVWLSjEl4q9ZbCH4WtGKUNj7NTvi24jTiwak5OR0nj9nvPUxqdiqC9YL4qOFHmDV/FnJzc9mneIxIkrM9y+cyXrq10wivnvuTIlcDyFog61asQNcqVZAVDOKKEaXf09OBjIxH4iT51Xz+74ePO/mX+XpqOIxmZcti0bRp9vy5bFjk+eHVc/rw6jl9ePVcYpBtU+5SMHfRXJSrUQ6hBiE7X0muksvIyXggTg+PKsnVc/JYxqQHkcngqcNT7Tyoio0q4ttV3+LSpUscIz3AJQeIK1I7u8TAggXoW6kSxoZCuG7kyJGiP5Im+XqukaZORprmT5iAo0eP2v8JeX4oTfpQmvShNCUG6ZOlH1i3cR2qNqqKtLppiPSNID4y/ofSJKfxIl9EkF4rHQ1bN8SO3Tvsdi8CQPIHpYm4IrU7ceIEVsybhwEVK2KikaYb+ZEmkwWRCLq//jq+GTvWTjqUnZQ8P5QmfShN+lCaEocM2IeOHEKnnp1QrnE5BFsFEcmMWEmSK+gelyY5AiXLDsjn4d5hRFpFUL5xefQZ2Aenz5ymMHmE0kRckdrJrVG+X7YMPSpVQnYwiKtGkJ5XmuT03NfhMD4vWxYLp0zByZMn7cZFnh9Kkz6UJn0oTYnlytUrWL5iOTpkdkD4ozACjQMI9QshOux/VwSXo1ChviGkNExBRqUM9BjUA6u/X23nShJvUJqIK7IRyI61feNGdK9TB32jURyLxfDrQ3F6ljT93Xx9Ix7HONO++fvvY9WCBXYiOAek/EFp0ofSpA+lKbHI9pqXl4fZ38xGnaZ18HaTtxFrFbP3mot0M+kZQbRXFLEvYoh1NmkZw7tN3rWLWi5atghnz57l/NICQGkiT0UGlFPHjqFPmzboVrIkfgyHcdHI0+9/IE3XjSztCQaRZT5vVb06ftqwwQoADwfnD0qTPpQmfShNiUXqKTU8eeqkPeLUObMzylQog+gHUSSVT0JyhWSkVEhBykcpSP0kFa9VeM3ep27VmlU4e+6s3cb9HORfNChN5Jlcv3rV3hJlcIMGGGnkaKWRoctGimStpielyR5hMt/bGAphdEoKhlSrhnHDhuFEbu7DZyP5gdKkD6VJH0qTDlJLOWq06vtVGDF2BLr164bmXZqjcZfGaNqtKdr0aoPeWb0xavwo/PDjD/bKO9nWScGgNJFnIjuZTOKeNnYsar32GnonJWGbEaIz4TDuPxQnOWUnc5huGWHaFwhgRHIyPjJtRmZmYteuXbjN8+eeoDTpQ2nSh9KkhwzgMs7JIC4X7mzatAmrVq/C2rVrsWfPHly4cMH2I9KGR/oTA6WJPBPZ4WQBr53btmHi0KEYWq8ehpQqhS+NIE0JBjE7FMI3JrOMRE0yj2VnZGBo1arI/uILrF+92s5lkg2M5B9Kkz6UJn0oTfrIWCeLEctcp+PHj9vlYqTvlX6DspRYKE3kuZAVfeWI09c5OWherRoavPMO6pUogVYmbU2aGJFq9NZbaFKxIsYauZIl+mV5eeIdSpM+lCZ9pB+W2srK685tamTb9nOgedEp7IG8OEFpIs+FDCZya5pT5l3MtvXrsWzOHEwbNQpThwzBNJM5Y8di+ezZ2PT998g1ciVHp3iEqWBQmvShNOkj/YAsXyJvuuTNlNwKRObXyG1BeBQkMVCa/IPSRPKNbDRyA9kDBw7YG0hKjh07Zg8Hc2BPHJQmfShNOkhfLPfkOnv+LHbv241lK5dh+uzpmDhtIqbPmY5Fyxdh80+bceyE6TeuX2N/XUAoTf5BaSKekEFcJEnkST5KzWXAkQ2KJAZKkz6UJh2kT9i1exdGjx+Nz1p/hgr1K+D92u/jvQbvoXyD8vio3keo06IOOvfqjKXLl9o5ONJnE29QmvyD0kQ8wVrrQ2nSh9KUWGQwkXlL6zasw5BRQ1CjXQ2UqFkC4RphBGoFEGwYRLCBSZ0g0mqn4a0Gb6FD3w6Y9c0sHDt+zP4PONjnH0qTf1CaiCdYa30oTfpQmhKLzGXcu3cvMgdnosT7JRBtGEWoawjR/lHEhsQQHxq3d9tPG5WGaGYU4TZhpFVJQ43GNbBgyQJ79Zds9yR/UJr8g9JEPMFa60Np0ofSlFgOHDqAEV+OQLV21ZBcPRmhTkaYhkbtPdAe3Ux23IObycZHxRHpF0GgSQCvN3wdHft2xPKVy+3/g+QPSpN/UJqIJ1hrfShN+lCaEocMHCvXrMQHlT9AesN0BHoGEB8etzeOtXfhf0yaMiZl2KSPT0d4QBjRNlGUqVIG/Yf0x63bt+zARJ4fSpN/UJqIJ1hrfShN+lCaEoP0B7Iu2/S501H6o9KINYshlh17dLf9p0qT3Il/VByxHjHEK8XRvld7HM09apcjIM8Ppck/KE3EE6y1PpQmfShNiUFqJytRj8wZifj7cURaR+wpOEeMniZN9vtyqm5AHIFKATTq2AibtmyyV+WS54fS5B+UJuIJ1lofSpM+lKbEIGsy7du3D0PGDUG8QhzRDtH/k6I/kCZJ6uBUBGsGUb9TfXsDWlkMkzw/lCb/oDQRT7DW+lCa9KE0JQa5zZJIU9a4LO/SVOuBNH235jtKUz6hNPkHpYl4grXWh9KkD6UpMUjt5K4AI3JGIFY+hnDrcP5Ozw2MI1D5wem5jZs38vRcPqE0+QeliXiCtdaH0qQPpSkxSH8gq4B/NecrvPrhqw8mgg+PWUF6ljSJMKWOTkWs54OJ4G17tsXho4ft6T7y/FCa/IPSRDzBWutDadKH0pQYZCCRPuDbVd+ifKXyD5Yc6BVAfMRzLjnQNorSVUqjb1Zf3Lh5gwN+PqE0+QeliXiCtdaH0qQPpSmx7DuwD0NGDEGVtlWQXCsZoS4hRIc9Y3HLAREEmgXwWqPX0PaLtli8fDH++stfHz4beV4oTf5BaSKeYK31oTTpQ2lKLDdu3MCuXbvQs19PRN+KItQghFAPI06DjDhlx+1il6mjjDiNTUOkfwTBtkFEKkRQqV4lzFswD6dOnbLbPckflCb/oDQRT7DW+lCa9KE0JRYZQESc1qxdg/7D+qNq26rIqJ2BcO0wAvUCCH4WtBGZSqubhjcbvok2vdtg2qxpOHL0iF3UkoN9/qE0+QeliXiCtdaH0qQPpUmHq1evYvuO7Rg2ahjqNK2DD2t+iLeqvYU3a7+Jt2u/jXI1yqFqo6po06UNFi5eiJMnT9p+hHiD0uQflCbiCdZaH0qTPpQmHWRQuX37Nk6cOoEtP23B/CXzkTM9B6MnjUbO1zmYs3AO1m5Ya2/we+nyJbt9sw/xDqXJPyhNxBOstT6UJn0oTfrIoHL27FkcOHAAO3fuxKFDh+zilXIqTgYgUnAoTf5BaSKeYK31oTTpQ2nSR2osgnTz5k0730nWYJI6s89IHJQm/3ihpOnOnTv2HY1cgXH69Gl7Xl3+KG48iYfSpI/UVt6Ry7Yscz4uX75sBxzKU+KQbffSpUu2xnLD2YsXL9p+RLZvkhik/5U6O/0Fa5t4KE3+8cJIk/wh58+fx08//YR169Zh7dq12LNnj31M3tXI90nioDTpIturSL+czli/fj3WrFljP5fBXerN7bngSA1FkPbv34+NGzfiu+++w7Zt2+ztQEROWePEQGnSR7ZVSpM/FHatCyRN8svKu8SfNm/G7EmTMLZ/f2S1bYvsVq0wQtKhA8b17Yuvx47FejPoOOfRScGhNCUekXu5FcXevXuxYMECTJgwAVlZWRg2bBhGjBhhM2bMGHz11VdYvXo1Tpw4YQd98vxI5yaniQ4dPoQFSxYge0w2Omd2xuc9P0fzns3Rtk9bdB/YHdljszFv0TwcOHjAnlLi9u0dSpM+lCb/KJLSJL+0nKK4cvkyNpl34WMHDMBnb72FBqmp+Ozll9EhKQldkpPR0qRxNIoGZcogq1MnrDHvJPPMO3WZK8INqmBQmhKLbM9ytdGOHTusFH3++edo0KCBTVvzRqBbt25o3bo1GjdujIYNG6J3795YsmQJcnNzrWxxe/5jZBuVbXXf/n12XaA6Leqg5EclEXg3gKTySUiumIzkj5IReD+Akh+XRM2mNTF5+mTs2buHV3cVAEqTPpQm/yiS0iQ7ncw9+GHlSvQ1A8rADz/EtLQ0LDGCtDYcxqZIBFsl5us1sRhmxeMY9u676Fi3LhbNmoW8vDzbCRLvUJoSh+xwcipOTi1nZ2ejT58+mDRpEhYuXIjvv//enjraunWrjZx6/uabbzBq1Ch06dIFX3/9tT3idPfu3YfPRp7GrVu3cPDgQQz7chiqNK2CMs3LIPZ5DOEOYYS7hBHpHkG0RxTRblHE28RRunlpVGpWCYNHDLbiJEecSP6hNOlDafKPIilN9+/dw+YNGzChXz+0efVVjE5JwYFgEBeNJN03gvRzaip+NflXejruma+PG5H62rRpbDK8XTusXrECly9devhsxAuUpsQhRz53796NadOmWREaMGAAtmzZ8uh0stRYJF/aSa1F+hctWoQ2bdpg4MCBWLx4sZ3rRJ7N4SOHMX3WdFRvWR3Jf0lGoF0A4YFhxEbG/u++aOPTbKJZUQQ6BOzRp8rNK2PK11PsqTqSfyhN+lCa/KNIStPlixcxdsgQ9P7kE8yIxbAjFMI9I0kiS05+TUvDv400iTj9Yj4/FIlggZGmwe+9h74dO+LQ3r32jyfeoDQlDtnpZs2aha5du2Ly5Mn2yNL169cf1VfiSJNzikmupvv222/tPKd25o3A5s2buT0/A6mN3Ay2ZuOaKNOsDALtA4hl/Z8sOZG77mfkZNibysaGxKw4yRGnGk1q4JtF37DGHqA06VPYA3lxorBr/ZLM5XjeyKAh77wPGuHp1bw5uhkh2hQO43I0in+KHBlZuhOP24hE/cPIkkiT5IaRq8NGroaax5t9+il+XLnSntKQHdjttZhnR9a2kUnIErnSiHX0FpEhOdU8fPhwtGjRAitWrLBHmGSQkTg1lm1Vdk7n5+QxOS2Xk5ODatWq2SNP8tjjbZgHkTrKqbnRE0ejxPslEGsRs0eYUkc/uOO+3G1f7sIvkRvJpk9ItxGJskeiPo+hxIcl7KRxeR7Z9t1eh3GP9A3SbzvbsvMGwK0t4y1STxnAnRrL5zLX0a0tU7AUdq1fkh3oeSM7npyGWLN8OTpWqYLegQCOGmG6ayTpr0aGbpmPV8zXkutGkkSc5HGJnKYTcRoTDKJh2bKYZ97Ry6XF0gm6vRbz7Ejdrly5YiNHRUSc3Noxz44IksxlyszMtJO/Zd6SCJKzU8pcJ6mxXFUnjzs/J/uCTByXI1SVKlWyc6AOHz5s2z3+/Mxf7fpWsqxAjwE9kPxmMsJtw1aQRIpEmGLZMUSHRW3s42NSH0S+b74Otw8j5Z0Ue5WdPI9csev2Oox7ZFuV+WBOf8E+N/GR/kKuCnVqLPWWx9zaMgVLYdf6JXmx540MzDIwLJk9G90+/RRZKSk4ZUTIOSV303wuR50k18znIlOPn7KTr6cYaWpZujS+Hj3aruP05GkQ5vkiG40MRhJnQHdrxzw7sqCiTPbu37+/vUJu165dj74nUuTUWHZO513N45EjTPXr17fLE4h8yVGrJ9sU95w5cwabNm1Ch8wOSHovCeGO4Uen40SarDANfZD4iAcy9XjCncP26ro2vdrYU6cyp8ztdRj3SL8tfYSzLUvf4daO8R5HTJ0aO29k3doyBUth1zpf0iQDs6xh883Uqcj85BOMCQRwJh/SJEeeZodC6GKkadrQofZdvbNqOJO/UJoSkyNHjmD58uV2PSaZAC5HMpzviTSJLEmNZTt1kyY5nSdLEYg0ySKYcuTqyTbFPXKHAFkctE1mGzsBPNI18kiInkea5Kq65ArJaNGrBVatWmVPi7q9DuMeGVBkYHH6C0pT4uM2kMtjbm2ZgqWwa/2SnB983sjkK5kAu3LBAvSsWBHDjDSdN2L0z7Q0O6dJTsPdNl9LRJj+bh7/zTwukTby9XQjTZ+/9hrmjh9vj1rJDu32WsyzI4cJZVCXiDDJ/8atHfPsiOTI0YtBgwahR48e9qamcn5cInNnnBqLMMncHOfnnDYiXLJu05QpU+wbCtmZH39+5jcrnrKaepcBXZD0fhIiXSL2CjmZ9C1zmB6f0ySn5Zw5Tfb7ciVd9yiSP0xG+8z22L59uz095/Y6jHukb5B+1tmWpeOXbdetLeMtUk8ZuJ0ay+cyl8ytLVOwFHat83X1nMxQl3fcm9euRbeaNdHfCFCekaPfjAwhI8NO/HaOKjlXz8njEnsVnXl8UiSCpm+/jWWzZtlTGfLHkvwjdXPMVwZzXj3nDZnfIWsHDR48GO3bt7dLD8hOKVdoyA7i1FgkVSYBOki9ZTCSlcOrV6+OmTNn2vsuimiR/0YGbDna1De7r13IMtopaieAp+cYMZqY/mj+ksRePTcpw0a+L9IU6xpD8P0gemX1sm/a5E0CeX549Zw+vHrOPwr96rmHH58L+WXlF8w1g0yfli3Rw8jQFiNBciru9z+QJjn6dDQcRrZ5rGWlSti0Zg0H+wJAaUoMUkc5vSmLVbZq1cre/0xk3nkn7tT4SWmSdzciArJEQY0aNbBs2bL/aUMe4NRx7JSxKPlBScRbxREZFHlwpdwzpEnEKjI4gnjrOEp9XAojJ4y0dZf/DXl+KE36UJr8o0hJk8OVS5cwcfhwZFasiK+MDG0NhXDHiNL9h8L0uDTJqTn5ep8RptkpKcj64AMM7NYNh/fvt3888QalKXHITjd37lx7em7ixIn2ZtNySkkGaKfGIkQy+Eud5XO5fYpMApd1mjp37mzn53F7fjpSm2UrlqF+i/oo27wsAm0CiA6K2mUHHGGS2NN2coTJCFVscMwugPla89dQt2VdLFy6kDX2AKVJn8IeyIsThV1rbyuCm8Fk25YtmDhokL0SbnhyMvYGg7gQifzPiuAytynXSNVUI0z1ZUXwjh2xdvVqXDWDEvEOpSlxiAzt27cPM2bMQEezfcryA3K1l1z15YiTI01y+k2OMM2fP9+u6ySTx2WRS2lLns3R3KOYPW82araqiaSPk6w4hQe4rwguR5hEmJI/TUbV5lUxffZ0u6I4yT+UJn0oTf5RJKVJDo/LZMwfjfwM6tQJg/7yF0w2gvRNNIqV4bC9/9x6I1DrzdffxmKYbgRq2Pvvo1vjxlg6bx7nfiQASlPikB1OTtHJZOXRo0ejb9++9mq4OXPm2KvjZEmCDRs22Kvj5OotWZtp5MiR9sjU7NmzrUTJvB3ybGTSpojPqPGjrDjJESe70GWbsL3/nEwQj3aJ2jlP8c/j9ghT9VbV7aKW+w/st/PPSP6hNOlDafKPIilN8kvLIC2X+v20bRvGZWWh3jvvoJaRo9ovv4yWSUlom5yMz0zqGmmq/dpryOraFevXrcP5c+fsz8pzEO9QmhKL7HQiPnIF3PTp0+1RpFq1aqFmzZpo1qwZOnTogCZNmqBu3bqoU6cOvvjiCytUMjGZ2/PzITWW7VbESY441W9ZH6XKl0LKmylIKpeE5E+Skfx+MgLvBFDqg1Ko3bQ2vp79NQ4eOohf//YrByGPSN0oTbpQmvyjSEqTg/yyMvdj108/YcGMGZg0dCiyu3TByPbtMdpkTPfumGyEau6UKdj844+4cOGC/SNJwaE0JR45/SZvBORqOllKYOrUqfb2KjJvSY5AjRkzxt42RY4urTNvAGR1fF7JlT+kc5MjTnKqTuY4jZk0Br0G9ULHzI5o06eNXZag77C+GDt5LJZ8u8QKlhxh4vbtHUqTPpQm/yjS0vQ48ofIVUdyikNOY0hkoUB5TAYj+T5JHJQmXWR7lVN2sgSBrOMkk8Plczm1LPXm9lxwpIYinYcOHcKWLVvsApg7duywR+/kqB9rnBgoTfrItkpp8ofCrnXCpEmQDvD8+fP2NgcyuMhCfzJ3iRtP4qE06SOTv0X6ZZK3bNMiUVJvLiuQOJyj1dJfyNwwWeFXhInLCiQOSpM+lCb/eKGkiQO5f7DW+sgRUqfGXINJB6mpvLFy6kxZSjyUJn0oTf5BaSKeYK31oTTpQ2nSh9KkD6XJPyhNxBOstT6UJn0oTfpQmvShNPkHpYl4grXWh9KkD6VJH0qTPpQm/6A0EU+w1vpQmvShNOlDadKH0uQflCbiCdZaH0qTPpQmfShN+lCa/IPSRDzBWutDadKH0qQPpUkfSpN/UJqIJ1hrfShN+lCa9KE06UNp8g9KE/EEa60PpUkfSpM+lCZ9KE3+QWkinmCt9aE06UNp0ofSpA+lyT8oTcQTrLU+lCZ9KE36UJr0oTT5B6WJeIK11ofSpA+lSR9Kkz6UJv+gNBFPsNb6UJr0oTTpQ2nSh9LkH5Qm4gnWWh9Kkz6UJn0oTfpQmvyD0kQ8wVrrQ2nSh9KkD6VJH0qTf1CaiCdYa30oTfpQmvShNOlDafIPShPxBGutD6VJH0qTPpQmfShN/kFpIp5grfWhNOlDadKH0qQPpck/KE3EE6y1PpQmfShN+lCa9KE0+QeliXiCtdaH0qQPpUkfSpM+lCb/oDQRT7DW+lCa9KE06UNp0ofS5B+UJuIJ1lofSpM+lCZ9KE36UJr8g9JEPMFa60Np0ofSpA+lSR9Kk39QmognWGt9EiVNspPL/0cizyEf2aE+gNKkD6VJH0qTf1CaiCdYa30SIU2yg9+7dw8XLlzAqVOncOLECZw7dw43b970LGEvEpQmfShN+lCa/IPSRDzBWuvjVZrkfyE78s1bN5F3Ng/bd23Ht6u+xfyl8zF30VwsXbkUG7ZsQO6JXFy5esVKg7xWcYTSpA+lSR9Kk39QmognWGt9vEqTtJWjSouXLUbX3l3RqG0jVG5SGRVbVESFlhVQqWkl1GlVB226tsGU6VNw+PBhe+SpOEJp0ofSpA+lyT8oTcQTrLU++ZUm+R9I29xjuZg1bxbaZ7ZH2dplkVojFcGaQYQahBD6LIRgnSCiNaIoVaMUGnRqgLE5Y7Ft+zbcvXu32EkDpUkfSpM+lCb/oDQRT7DW+uRXmuR/IkeY5s6fi6oNqqJEzRIItw0j2ieK1OxUpI1IQ9rINKQOT0VsQAzhzmGkNUxDmQ/LIPvLbBw6dAh37tx5+GzFA0qTPpQmfShN/kFpIp5grfXJrzTduXvHnpKTI0yv1HkFgaYBRPpHEB8VR3pOOjImZTxK6thURIdEEWwXRFKlJNTvXB+TvpqEEydPPHy24gGlSR9Kkz6UJv+gNBFPsNb65EeaZEe+eOkiumd2R5nqZewRpsiACNIn/Lcs/VdyMhAbGkNK1xSUql8KNRrWwMYtG+1zFRcoTfpQmvShNPlHoUuT7ECJyv379+2EVomcZpAd1a0dU/Cw1voRUXJqfOvWLTu4u7WTHfjGjRvYvnM7GrdrjFjlGCI9Iohlx5A2Lg1p45+e+Mg4woPCiDWIoVzlcpi3aB6uXLliX9vttV60SE1v3779qM7OoM4kLjKoSB/h1Fj6Drd2jPdIHyBLizg1lvmJUne3tkzBUti1fsmxtURE/oDLly/bXLt2zf4xbu2Ygoe11o8M5k6NRWRk4HFrJ4PQ8ePHsWT5ElRpXAXJlZIR7RdFfHQcqV+m/mGkXbBhEKU+KoUvc77EgQMHcP36ddfXetEiNb169eqjOoucurVjvEcGGOkjnBpL3+HWjvEe6QPkjZNTY9l/pe5ubZmCpbBrTWkqomGt9ZMfaTp48CDmzJ+Dis0qIqVmip3o7SZIT0uwWRAlK5bE0LFDsWPHDisSbq/1ooXSpB9Kk34oTf6l0KVJTuskKtIBys4pcXZMt3ZMwcNa60dE1Kmxs2O6tZNTabLW0pwFc1CpRSUEagcQGxRD2ti054pMCg+1CKFUlVIYNm6YlSZ5PbfXetHidIBOnaXmbu0Y75G+QfoIp8byZsCtHeM9zmlmp8Yi/9IvuLVlCpbCrvVLMoE4UZEnlE7POeohkzrd2jEFD2utHzl37tRYhEnOZ7u1k8nMcmuUFatXoFqLaghUDyCeFUf6xPTny4R0hJuF8WqFVzF+2ngcO3bM/k/dXutFi9RUxMmps8xNcGvHeI9zQYNTY+k73Nox3uNc0ODUWAZxqbtbW6Zgcau1PObWViO8eq6Iwlrr87xXz8nVHPLOR26X8lm7zxCtGkWsbwypY1LtFXKuV849jEwUj42IIdY4hneqvIN5i+fZd0/F5SoypwN06syr5xIPr57Th1fP+UehXz338GNC4EDuH6y1PvlZckDqf+bcGXTq1QmlqpZCuEMYkcEReyTJTZacxIbHEOgVQEb9DFSuWxnrNqyzryMdQ3GA0qQPpUkfSpN/UJqIJ1hrffIjTYKcW585dyaadm2KEg1KIPh5ENGsqJ3o/aQs2SNM2TGEOoeQXCsZ1dpVQ/bobBzJPfLw2YoHlCZ9KE36UJr8g9JEPMFa65NfaZIdOTc3196E950K7yClQgpSOqUgOjhq5y3Zo04TM+zH+PA4gj2DSKlj2ryagj6D+2DPnj1WvIoTlCZ9KE36UJr8g9JEPMFa65NfaZLvy9ym3Xt3Y0zOGDTu1hilG5RGasNUhBuHEW4ZRuTzCMJNw4g1iqFEvRL2CFPfrL5Ys26NvWJOOoPiBKVJH0qTPpQm/6A0EU+w1vrkV5ocpP3Ro0fx9ayv0bBFQ3xc+2OUrVwWZWuWxeu1X0fZqmXxfo33Ub1hdXtKbvfu3Xbyd3GE0qQPpUkfSpN/UJqIJ1hrfbxKk/ycLFFw5uwZe0Xd8lXLMW3ONEyYPgFjp43FlFlTsGDZAnufudzjufboVHE7wuRAadKH0qQPpck/KE3EE6y1Pl6l6XFkB5eFSPPy8uzRp0OHDuHUqVP2yJI8f3GH0qQPpUkfSpN/UJqIJ1hrfRIhTYL8nOzk8n8SQZCdXORAdv7iDqVJH0qTPpQm/6A0EU+w1vokSprI06E06UNp0ofS5B+UJuIJ1lofSpM+lCZ9KE36UJr8g9JEPMFa60Np0ofSpA+lSR9Kk39QmognWGt9KE36UJr0oTTpQ2nyD0oT8QRrrQ+lSR9Kkz6UJn0oTf5BaSKeYK31oTTpQ2nSh9KkD6XJPyhNxBOstT6UJn0oTfpQmvShNPkHpYl4grXWh9KkD6VJH0qTPpQm/6A0EU+w1vpQmvShNOlDadKH0uQflCbiCdZaH0qTPpQmfShN+lCa/IPSRDzBWutDadKH0qQPpUkfSpN/UJqIJ1hrfShN+lCa9KE06UNp8g9KE/EEa60PpUkfSpM+lCZ9KE3+QWkinmCt9aE06UNp0ofSpA+lyT8oTcQTrLU+lCZ9KE36UJr0oTT5B6WJeIK11ofSpA+lSR9Kkz6UJv+gNBFPsNb6UJr0oTTpQ2nSh9LkH5Qm4gnWWh9Kkz6UJn0oTfpQmvyD0kQ8wVrrQ2nSh9KkD6VJH0qTf1CaiCdYa30oTfpQmvShNOlDafIPShPxBGutD6VJH0qTPpQmfShN/kFpIp5grfWhNOlDadKH0qQPpck/KE3EE6y1PpQmfShN+lCa9KE0+QeliXiCtdaH0qQPpUkfSpM+lCb/oDQRT7DW+lCa9KE06UNp0ofS5B+UJuIJ1lofSpM+lCZ9KE36UJr8g9JEPMFa60Np0ofSpA+lSR9Kk39QmognWGt9KE36UJr0oTTpQ2nyj0KXJvkFEhX5Q+7fv28jHaF0iG7tmIKHtdaPDOBOjUWaRKLc2jHeIzWV2jp1lgHdrR3jPfKGSqTJqbH0HW7tGO+RQVsGb6fGUm95zK0tU7AUdq1fkh0oUbl37x5u3Lhhc/v2bTuYu7VjCh7WWj+yQzo1vnnzph3c3dox3iM1vXXr1qM6S83d2jHeI32D9BFOjaXvcGvHeI8M4nfv3n1U4zt37tjB3K0tU7AUdq1fcg5xJSIysFy+fNnm2rVr9g9za8cUPKy1fmSgcWp85coVu3O6tWO8R2p69erVR3UWgXJrx3iPSJL0EU6Npe9wa8d4j/MGy6nx9evXbd3d2jIFS2HXmtJURMNa64fSpB9Kk34oTfqhNPmXQpcmOdSVqMjALX+ARDo/OfTu1o4peFhr/ciO6NRYdlLZWd3aMd4jnZAM4k6dpeZu7RjvcU6BOjUWUXVrx3iPnB6Sujo1dqZMuLVlCpbCrvVLMoEqUZEnlE5PIjuqTPJ0a8cUPKy1fmRSslNjESaZGO7WjvEeqamIk1NnmTPg1o7xHrlIRPoIp8bSd7i1Y7zHmWzv1FgGcam7W1umYHGrtTzm1lYjXHKgiMJa68MlB/SRmkqn59SZSw4kHunopY9waswlBxKPXFUlwu/U2BFTkngKu9aUpiIKa60PpUkfSpM+lCZ9KE3+QWkinmCt9aE06UNp0ofSpA+lyT8oTcQTrLU+lCZ9KE36UJr0oTT5B6WJeIK11ofSpA+lSR9Kkz6UJv+gNBFPsNb6UJr0oTTpQ2nSh9LkH5Qm4gnWWh9Kkz6UJn0oTfpQmvyD0kQ8wVrrQ2nSh9KkD6VJH0qTf1CaiCdYa30oTfpQmvShNOlDafIPShPxBGutD6VJH0qTPpQmfShN/kFpIp5grfWhNOlDadKH0qQPpck/KE3EE6y1PpQmfShN+lCa9KE0+QeliXiCtdaH0qQPpUkfSpM+lCb/oDQRT7DW+lCa9KE06UNp0ofS5B+UJuIJ1lofSpM+lCZ9KE36UJr8g9JEPMFa60Np0ofSpA+lSR9Kk39QmognWGt9KE36UJr0oTTpQ2nyD0oT8QRrrQ+lSR9Kkz6UJn0oTf5BaSKeYK31oTTpQ2nSh9KkD6XJPyhNxBOstT6UJn0oTfpQmvShNPkHpYl4grXWh9KkD6VJH0qTPpQm/6A0EU+w1vpQmvShNOlDadKH0uQflCbiCdZaH0qTPpQmfShN+lCa/IPSRDzBWutDadKH0qQPpUkfSpN/UJqIJ1hrfShN+lCa9KE06UNp8g9KE/EEa60PpUkfSpM+lCZ9KE3+QWkinmCt9aE06UNp0ofSpA+lyT8oTcQTrLU+lCZ9KE36UJr0oTT5B6WJeIK11ofSpA+lSR9Kkz6UJv+gNBFPsNb6UJr0oTTpQ2nSh9LkH5Qm4gnW+ulILWRHEtG5f/++/Shf57dGlCZ9KE36UJr0oTT5B6WJeIK1dkd2KBGcc+fO4ejRo9izZ4/9KF/L4Czff14oTfpQmvShNOlDafIPShPxBGv9f8gOI3U4f+E8duzageWrlmPKrCkYM3UMsnOy7ceps6bax3fu3okLFy/Y9n8kUJQmfShN+lCa9KE0+QeliXiCtf4/RG7y8vKwfMVytO3SFh9W/xBl/lIGpSqVQqmaJuZj6b+UxkfVP0KHbh2w8ruVOHPmzB9KEKVJH0qTPpQmfShN/kFpIp5grR8gc5ZOnjqJ6bOn4/Oen6Ncs3JIa5SGSLMIIp9HEG0fRfjzMCJNI/bx95u/jza92mDmvJlWtOTnnwalSR9Kkz6UJn0oTf5BaSKeYK0fcObsGaz4bgXqNK+DpHeTkNIiBeH+YaSNS0N6TjoyJmXYj/K1PJ7cPNm2a/B5A6xes9rOdXoalCZ9KE36UJr0oTT5B6WJeIK1frDzrP5hNdr1aId3mr+DlKYpiPSNID4qjvSJD4TJiXwtj0cyI0hpkoJyLcqhY6+O+OHHH+zzuEFp0ofSpA+lSR9Kk38UujTJiyUq8svfu3fPRgYZGXTc2jEFT3Gvtfy9UoOxk8ai9EelEWsRQ6hfCKlfpiIjx4jSU5I6OhWhviHEm8dR5qMyyJmWY3dAGbyffA0ZXJway2k8GdCfbMMULFJT6ficOsv/wq0d4z2ybUsf4dTYGWSYxEXetIqYOjWWNwJufQpT8LjVWh5za6uRl2QHSlTu3r2L69ev29y6dcvuqG7tmIKnuNf6xo0bOH78OHoP7o1wuTAibSOIZcesNKWNTXtq5PvR7CgirSMIvxNGv2H9cPLkSdy8efN/XkN2SKfG8noiTk+2YQoWESapvVNnqblbO8Z7pG+QPsKp8Z07d1zbMd4jg7jU1anx7du37WDu1pYpWAq71i85h7gSEen8Ll++bHPt2jU7sLu1Ywqe4l7rs2fPYuvWrWj7RVsklUtCuFMY8dFxK0V/FGkX7hDGy++8jE6ZnbBt2zY7t+nJ15Cd0anxlStX7I76ZBumYJGaXr169VGdZXB3a8d4j4io9BFOjaXvcGvHeI+8oZI3Vk6NZTCXuru1ZQqWwq41pamIprjXWo4Off/992j1RSsk/yUZka4RV0F6WiKdI0j6KAlt+7TF2rVrcfr06f95DUqTfihN+qE06YfS5F8KXZpkDkGiIr+4/DES55CZWzum4CnutZYjQ5s2bbLSk/yxkabuEXuF3PNGJCv5w2R07NcRW7ZswYULF/7nNZydUyIDjZzmeLINU7A4p46cOkvN3dox3iN9g/QRTo2l73Brx3iPnLaRN65OjeXNgJxGcmvLFCyFXeuXZCZ6oiJPKJ2eRHZUmQjn1o4peIp7rWWgPXToELr074Kk95IQ7R59sMSATPh+7Kq5/4n5vrSLdo0i+d1k9BzcE0eOHLGDypOvIZOUnRrL4C6Tz59swxQsUlOprVNnmXzv1o7xHmfirFNj6Tvc2jHeIxOEZTB3aiz1lsfc2jIFS2HXmksOFFGKe61lp5HDslmjs5D2QRpi7WJ2Inj6+P9eauDJpI03bU27eNs40sunY8T4Efbdijzfk8iA7tRYBnYRU5JYpKYi/U6dueRA4pEBRfoIp8ZcciDxyGAqMurUWPoTqTtJPIVda0pTEYW1frDzfDXzK7xb+V2kN0tHsFcQqaMeLjngIkxyhCk+Mo5gzyAymmXgvSrvYebcmfZ53KA06UNp0ofSpA+lyT8oTcQTrPUDtm3fhiGjhuDj5h8juVYyQt1CD444TfjvI05pE9IQGxZDqGsIyTWT8WnLTzHsy2H2Br9Pg9KkD6VJH0qTPpQm/6A0EU+w1g+Qqyc2b9mMTr064fVqryO1eSqi3aKID4ojdWgq0rLT7Mf4wLidx5TWPA1lq5VF18yu2PbTNnvl1tOgNOlDadKH0qQPpck/KE3EE6z1A2Tnkcup16xdg8GjBqNCswrIqJaBUNUQgrWDCDU0H2sFEa4aRolqJVCpRSUM+XKIvX2KzGWSn38alCZ9KE36UJr0oTT5B6WJeIK1/j9k4L106RI2b92MkWNHom33tqjXuh5qtK6Bqm2r2o/ytdyjbvT40dj601Z7hOqPakZp0ofSpA+lSR9Kk39QmognWOv/Q3YiERwRm2vXryH3eC42bN6AFatXYP6S+fbjxi0bcezEMft9aSft5eeeBaVJH0qTPpQmfShN/kFpIp5grZ+O7ERyyk4WwJSVw+WjLE8gO1p+oDTpQ2nSh9KkD6XJPyhNxBOs9bORHevJ5BdKkz6UJn0oTfpI/0Jp8ofCrjWlqYjCWutDadKH0qQPpUkfSpN/UJqIJ1hrfShN+lCa9KE06UNp8g9KE/EEa60PpUkfSpM+lCZ9KE3+QWkinmCt9aE06UNp0ofSpA+lyT8oTcQTrLU+lCZ9KE36UJr0oTT5B6WJeIK11ofSpA+lSR9Kkz6UJv+gNBFPsNb6UJr0oTTpQ2nSh9LkH5Qm4gnWWh9Kkz6UJn0oTfpQmvyD0kQ8wVrrQ2nSh9KkD6VJH0qTfxRurYH/Dx+n/hmphbfyAAAAAElFTkSuQmCC)\n",
        "\n",
        "If we give the above dataset to a kNN based classifier, then the classifier would declare the query point to belong to the class 0. But in the plot, it is clear that the point is more closer to the class 1 points compared to the class 0 points. To overcome this disadvantage, weighted kNN is used. In weighted kNN, the nearest k points are given a weight using a function called as the kernel function. The intuition behind weighted kNN, is to give more weight to the points which are nearby and less weight to the points which are farther away. Any function can be used as a kernel function for the weighted knn classifier whose value decreases as the distance increases. The simple function which is used is the inverse distance function which implies that as the distance increases weight decreases and as the distance decreases, weight increases."
      ],
      "metadata": {
        "id": "rTPQfo-wTJAQ"
      }
    }
  ]
}